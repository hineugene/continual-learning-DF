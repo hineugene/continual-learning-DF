{
 "cells": [
  {
   "cell_type": "code",
   "execution_count": 11,
   "metadata": {},
   "outputs": [],
   "source": [
    "import pandas as pd\n",
    "import numpy as np\n",
    "\n",
    "import tensorflow as tf\n",
    "from tensorflow.keras.optimizers.legacy import Adamax, Adam\n",
    "from tensorflow.keras.losses import CategoricalCrossentropy\n",
    "from tensorflow.keras.metrics import CategoricalAccuracy\n",
    "from tensorflow.keras.metrics import Mean\n",
    "from tensorflow.keras.utils import to_categorical\n",
    "from copy import deepcopy"
   ]
  },
  {
   "cell_type": "code",
   "execution_count": 12,
   "metadata": {},
   "outputs": [],
   "source": [
    "import import_ipynb\n",
    "\n",
    "import Model \n",
    "from Model import *\n",
    "\n",
    "import utils\n",
    "from utils import *"
   ]
  },
  {
   "cell_type": "code",
   "execution_count": 13,
   "metadata": {},
   "outputs": [],
   "source": [
    "data = pd.read_pickle('mon_data.pkl')"
   ]
  },
  {
   "cell_type": "code",
   "execution_count": 14,
   "metadata": {},
   "outputs": [],
   "source": [
    "# 모델 빌드 \n",
    "model = DFNet.build(input_shape=(10000, 1), classes=95)"
   ]
  },
  {
   "cell_type": "code",
   "execution_count": 15,
   "metadata": {},
   "outputs": [
    {
     "name": "stderr",
     "output_type": "stream",
     "text": [
      "c:\\Users\\swu\\AppData\\Local\\Programs\\Python\\Python37\\lib\\site-packages\\keras\\optimizers\\optimizer_v2\\adamax.py:99: UserWarning: The `lr` argument is deprecated, use `learning_rate` instead.\n",
      "  super().__init__(name, **kwargs)\n"
     ]
    }
   ],
   "source": [
    "# Training the DF model\n",
    "NB_EPOCH = 30   # Number of training epoch\n",
    "BATCH_SIZE = 128 # Batch size\n",
    "VERBOSE = 2 # Output display mode\n",
    "LENGTH = 10000 # Packet sequence length\n",
    "OPTIMIZER = Adamax(lr=0.002, beta_1=0.9, beta_2=0.999, epsilon=1e-08, decay=0.0) # Optimizer"
   ]
  },
  {
   "cell_type": "code",
   "execution_count": 16,
   "metadata": {},
   "outputs": [
    {
     "name": "stdout",
     "output_type": "stream",
     "text": [
      "Model compiled\n"
     ]
    }
   ],
   "source": [
    "# 모델 컴파일\n",
    "model.compile(loss=\"categorical_crossentropy\", optimizer=OPTIMIZER,\n",
    "\tmetrics=[\"accuracy\"])\n",
    "print (\"Model compiled\")"
   ]
  },
  {
   "cell_type": "code",
   "execution_count": null,
   "metadata": {},
   "outputs": [
    {
     "name": "stdout",
     "output_type": "stream",
     "text": [
      "Epoch 1/30\n"
     ]
    },
    {
     "name": "stderr",
     "output_type": "stream",
     "text": [
      "c:\\Users\\swu\\AppData\\Local\\Programs\\Python\\Python37\\lib\\site-packages\\tensorflow\\python\\data\\ops\\structured_function.py:265: UserWarning: Even though the `tf.config.experimental_run_functions_eagerly` option is set, this option does not apply to tf.data functions. To force eager execution of tf.data functions, please use `tf.data.experimental.enable_debug_mode()`.\n",
      "  \"Even though the `tf.config.experimental_run_functions_eagerly` \"\n"
     ]
    },
    {
     "name": "stdout",
     "output_type": "stream",
     "text": [
      "250/250 [==============================] - 22s 87ms/step - loss: 3.5881 - accuracy: 0.1338\n",
      "Epoch 2/30\n",
      "250/250 [==============================] - 21s 83ms/step - loss: 2.7079 - accuracy: 0.2935\n",
      "Epoch 3/30\n",
      "250/250 [==============================] - 21s 83ms/step - loss: 2.2133 - accuracy: 0.4141\n",
      "Epoch 4/30\n",
      "250/250 [==============================] - 22s 88ms/step - loss: 1.8556 - accuracy: 0.5067\n",
      "Epoch 5/30\n",
      "250/250 [==============================] - 21s 85ms/step - loss: 1.5721 - accuracy: 0.5961\n",
      "Epoch 6/30\n",
      "250/250 [==============================] - 21s 86ms/step - loss: 1.3529 - accuracy: 0.6413\n",
      "Epoch 7/30\n",
      "250/250 [==============================] - 21s 85ms/step - loss: 1.1555 - accuracy: 0.6898\n",
      "Epoch 8/30\n",
      "250/250 [==============================] - 21s 83ms/step - loss: 1.0346 - accuracy: 0.7266\n",
      "Epoch 9/30\n",
      "250/250 [==============================] - 22s 86ms/step - loss: 0.9071 - accuracy: 0.7573\n",
      "Epoch 10/30\n",
      "250/250 [==============================] - 22s 88ms/step - loss: 0.7906 - accuracy: 0.7894\n",
      "Epoch 11/30\n",
      "250/250 [==============================] - 21s 86ms/step - loss: 0.6969 - accuracy: 0.8150\n",
      "Epoch 12/30\n",
      "250/250 [==============================] - 22s 88ms/step - loss: 0.6322 - accuracy: 0.8321\n",
      "Epoch 13/30\n",
      "250/250 [==============================] - 22s 89ms/step - loss: 0.5537 - accuracy: 0.8530\n",
      "Epoch 14/30\n",
      "250/250 [==============================] - 22s 87ms/step - loss: 0.4990 - accuracy: 0.8669\n",
      "Epoch 15/30\n",
      "250/250 [==============================] - 22s 89ms/step - loss: 0.4448 - accuracy: 0.8775\n",
      "Epoch 16/30\n",
      "250/250 [==============================] - 22s 88ms/step - loss: 0.4142 - accuracy: 0.8895\n",
      "Epoch 17/30\n",
      "250/250 [==============================] - 22s 87ms/step - loss: 0.3738 - accuracy: 0.9016\n",
      "Epoch 18/30\n",
      "250/250 [==============================] - 21s 86ms/step - loss: 0.3607 - accuracy: 0.9016\n",
      "Epoch 19/30\n",
      "250/250 [==============================] - 21s 85ms/step - loss: 0.3261 - accuracy: 0.9116\n",
      "Epoch 20/30\n",
      "250/250 [==============================] - 22s 90ms/step - loss: 0.2976 - accuracy: 0.9214\n",
      "Epoch 21/30\n",
      "250/250 [==============================] - 22s 89ms/step - loss: 0.2797 - accuracy: 0.9240\n",
      "Epoch 22/30\n",
      "250/250 [==============================] - 22s 87ms/step - loss: 0.2656 - accuracy: 0.9284\n",
      "Epoch 23/30\n",
      "250/250 [==============================] - 22s 86ms/step - loss: 0.2408 - accuracy: 0.9351\n",
      "Epoch 24/30\n",
      "250/250 [==============================] - 21s 84ms/step - loss: 0.2212 - accuracy: 0.9395\n",
      "Epoch 25/30\n",
      "250/250 [==============================] - 21s 84ms/step - loss: 0.2100 - accuracy: 0.9416\n",
      "Epoch 26/30\n",
      "250/250 [==============================] - 22s 88ms/step - loss: 0.1933 - accuracy: 0.9485\n",
      "Epoch 27/30\n",
      "250/250 [==============================] - 22s 86ms/step - loss: 0.1858 - accuracy: 0.9481\n",
      "Epoch 28/30\n",
      "250/250 [==============================] - 22s 87ms/step - loss: 0.1813 - accuracy: 0.9496\n",
      "Epoch 29/30\n",
      "250/250 [==============================] - 22s 90ms/step - loss: 0.1498 - accuracy: 0.9589\n",
      "Epoch 30/30\n",
      "250/250 [==============================] - 22s 86ms/step - loss: 0.1438 - accuracy: 0.9591\n",
      "Data_A training accuracy: 0.9591\n"
     ]
    }
   ],
   "source": [
    "import tensorflow as tf\n",
    "tf.config.run_functions_eagerly(True)  # 즉시 실행 모드 강제\n",
    "\n",
    "first_part = split_by_label(data, 0, 49)\n",
    "train, test = split_train_test(first_part, test_size=0.2, random_state=11)\n",
    "\n",
    "# 3D ndarray 로 변환 \n",
    "train_seq, train_label = split_data_label(train)\n",
    "\n",
    "train_seq = np.stack(train_seq.values)\n",
    "train_seq = train_seq[..., np.newaxis]\n",
    "\n",
    "train_label = train_label.values\n",
    "train_label = to_categorical(train_label, num_classes=95)\n",
    "                \n",
    "\n",
    "history = model.fit(x=train_seq, y=train_label, epochs=30, verbose=1)\n",
    "print(f\"Data_A training accuracy: {history.history['accuracy'][-1]:.4f}\")"
   ]
  },
  {
   "cell_type": "code",
   "execution_count": 18,
   "metadata": {},
   "outputs": [],
   "source": [
    "# 모델 저장\n",
    "from tensorflow.keras.models import save_model\n",
    "\n",
    "# HDF5 형식으로 저장\n",
    "save_model(model, 'nonbase_model.h5')"
   ]
  }
 ],
 "metadata": {
  "kernelspec": {
   "display_name": "Python 3",
   "language": "python",
   "name": "python3"
  },
  "language_info": {
   "codemirror_mode": {
    "name": "ipython",
    "version": 3
   },
   "file_extension": ".py",
   "mimetype": "text/x-python",
   "name": "python",
   "nbconvert_exporter": "python",
   "pygments_lexer": "ipython3",
   "version": "3.7.7"
  }
 },
 "nbformat": 4,
 "nbformat_minor": 2
}
