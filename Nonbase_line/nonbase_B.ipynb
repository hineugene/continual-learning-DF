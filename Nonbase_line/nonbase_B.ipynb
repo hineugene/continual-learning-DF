{
 "cells": [
  {
   "cell_type": "code",
   "execution_count": 20,
   "metadata": {},
   "outputs": [],
   "source": [
    "import pandas as pd\n",
    "import numpy as np\n",
    "\n",
    "import tensorflow as tf\n",
    "from tensorflow.keras.optimizers.legacy import Adamax, Adam\n",
    "from tensorflow.keras.losses import CategoricalCrossentropy\n",
    "from tensorflow.keras.metrics import CategoricalAccuracy\n",
    "from tensorflow.keras.metrics import Mean\n",
    "from tensorflow.keras.utils import to_categorical\n",
    "from copy import deepcopy"
   ]
  },
  {
   "cell_type": "code",
   "execution_count": 21,
   "metadata": {},
   "outputs": [],
   "source": [
    "import import_ipynb\n",
    "\n",
    "import Model \n",
    "from Model import *\n",
    "\n",
    "import utils\n",
    "from utils import *"
   ]
  },
  {
   "cell_type": "code",
   "execution_count": 22,
   "metadata": {},
   "outputs": [],
   "source": [
    "data = pd.read_pickle('mon_data.pkl')"
   ]
  },
  {
   "cell_type": "code",
   "execution_count": 23,
   "metadata": {},
   "outputs": [],
   "source": [
    "from tensorflow.keras.models import load_model\n",
    "\n",
    "# 모델 로드\n",
    "model = load_model('nonbase_model.h5')"
   ]
  },
  {
   "cell_type": "code",
   "execution_count": 26,
   "metadata": {},
   "outputs": [
    {
     "name": "stdout",
     "output_type": "stream",
     "text": [
      "Epoch 1/30\n"
     ]
    },
    {
     "name": "stderr",
     "output_type": "stream",
     "text": [
      "c:\\Users\\swu\\AppData\\Local\\Programs\\Python\\Python37\\lib\\site-packages\\tensorflow\\python\\data\\ops\\structured_function.py:265: UserWarning: Even though the `tf.config.experimental_run_functions_eagerly` option is set, this option does not apply to tf.data functions. To force eager execution of tf.data functions, please use `tf.data.experimental.enable_debug_mode()`.\n",
      "  \"Even though the `tf.config.experimental_run_functions_eagerly` \"\n"
     ]
    },
    {
     "name": "stdout",
     "output_type": "stream",
     "text": [
      "225/225 [==============================] - 21s 89ms/step - loss: 3.8321 - accuracy: 0.3324\n",
      "Epoch 2/30\n",
      "225/225 [==============================] - 20s 89ms/step - loss: 1.4529 - accuracy: 0.6393\n",
      "Epoch 3/30\n",
      "225/225 [==============================] - 21s 93ms/step - loss: 0.9085 - accuracy: 0.7544\n",
      "Epoch 4/30\n",
      "225/225 [==============================] - 19s 85ms/step - loss: 0.6482 - accuracy: 0.8235\n",
      "Epoch 5/30\n",
      "225/225 [==============================] - 20s 88ms/step - loss: 0.5260 - accuracy: 0.8562\n",
      "Epoch 6/30\n",
      "225/225 [==============================] - 19s 85ms/step - loss: 0.4258 - accuracy: 0.8871\n",
      "Epoch 7/30\n",
      "225/225 [==============================] - 19s 84ms/step - loss: 0.3628 - accuracy: 0.9024\n",
      "Epoch 8/30\n",
      "225/225 [==============================] - 21s 96ms/step - loss: 0.2997 - accuracy: 0.9172\n",
      "Epoch 9/30\n",
      "225/225 [==============================] - 22s 96ms/step - loss: 0.2646 - accuracy: 0.9294\n",
      "Epoch 10/30\n",
      "225/225 [==============================] - 19s 86ms/step - loss: 0.2168 - accuracy: 0.9410\n",
      "Epoch 11/30\n",
      "225/225 [==============================] - 19s 86ms/step - loss: 0.1992 - accuracy: 0.9478\n",
      "Epoch 12/30\n",
      "225/225 [==============================] - 19s 86ms/step - loss: 0.1844 - accuracy: 0.9485\n",
      "Epoch 13/30\n",
      "225/225 [==============================] - 19s 85ms/step - loss: 0.1655 - accuracy: 0.9557\n",
      "Epoch 14/30\n",
      "225/225 [==============================] - 20s 88ms/step - loss: 0.1542 - accuracy: 0.9572\n",
      "Epoch 15/30\n",
      "225/225 [==============================] - 20s 91ms/step - loss: 0.1361 - accuracy: 0.9603\n",
      "Epoch 16/30\n",
      "225/225 [==============================] - 21s 94ms/step - loss: 0.1191 - accuracy: 0.9678\n",
      "Epoch 17/30\n",
      "225/225 [==============================] - 25s 112ms/step - loss: 0.1210 - accuracy: 0.9663\n",
      "Epoch 18/30\n",
      "225/225 [==============================] - 25s 110ms/step - loss: 0.1296 - accuracy: 0.9649\n",
      "Epoch 19/30\n",
      "225/225 [==============================] - 24s 104ms/step - loss: 0.1039 - accuracy: 0.9711\n",
      "Epoch 20/30\n",
      "225/225 [==============================] - 23s 104ms/step - loss: 0.0919 - accuracy: 0.9747\n",
      "Epoch 21/30\n",
      "225/225 [==============================] - 23s 101ms/step - loss: 0.0796 - accuracy: 0.9785\n",
      "Epoch 22/30\n",
      "225/225 [==============================] - 23s 100ms/step - loss: 0.0844 - accuracy: 0.9775\n",
      "Epoch 23/30\n",
      "225/225 [==============================] - 23s 102ms/step - loss: 0.0847 - accuracy: 0.9771\n",
      "Epoch 24/30\n",
      "225/225 [==============================] - 22s 100ms/step - loss: 0.0692 - accuracy: 0.9797\n",
      "Epoch 25/30\n",
      "225/225 [==============================] - 20s 88ms/step - loss: 0.0676 - accuracy: 0.9796\n",
      "Epoch 26/30\n",
      "225/225 [==============================] - 21s 95ms/step - loss: 0.0631 - accuracy: 0.9833\n",
      "Epoch 27/30\n",
      "225/225 [==============================] - 19s 85ms/step - loss: 0.0648 - accuracy: 0.9832\n",
      "Epoch 28/30\n",
      "225/225 [==============================] - 19s 86ms/step - loss: 0.0595 - accuracy: 0.9831\n",
      "Epoch 29/30\n",
      "225/225 [==============================] - 19s 85ms/step - loss: 0.0609 - accuracy: 0.9815\n",
      "Epoch 30/30\n",
      "225/225 [==============================] - 19s 83ms/step - loss: 0.0523 - accuracy: 0.9860\n",
      "Data_B training accuracy: 0.9860\n"
     ]
    }
   ],
   "source": [
    "import tensorflow as tf\n",
    "tf.config.run_functions_eagerly(True)  # 즉시 실행 모드 강제\n",
    "\n",
    "second_part = split_by_label(data, 50, 94)\n",
    "train, test = split_train_test(second_part, test_size=0.2, random_state=11)\n",
    "\n",
    "# 3D ndarray 로 변환 \n",
    "train_seq, train_label = split_data_label(train)\n",
    "\n",
    "from sklearn.preprocessing import LabelEncoder\n",
    "\n",
    "# 레이블을 0~44 범위로 재인덱싱\n",
    "le = LabelEncoder()\n",
    "train_label = le.fit_transform(train_label)\n",
    "\n",
    "train_seq = np.stack(train_seq.values)\n",
    "train_seq = train_seq[..., np.newaxis]\n",
    "\n",
    "# train_label = train_label.values\n",
    "train_label = to_categorical(train_label, num_classes=95)\n",
    "                \n",
    "\n",
    "history = model.fit(x=train_seq, y=train_label, epochs=30, verbose=1)\n",
    "print(f\"Data_B training accuracy: {history.history['accuracy'][-1]:.4f}\")"
   ]
  },
  {
   "cell_type": "markdown",
   "metadata": {},
   "source": [
    "### 95개의 클래스로 model test"
   ]
  },
  {
   "cell_type": "code",
   "execution_count": null,
   "metadata": {},
   "outputs": [
    {
     "name": "stdout",
     "output_type": "stream",
     "text": [
      "594/594 [==============================] - 16s 26ms/step - loss: 20.1790 - accuracy: 0.0208\n",
      "[20.179012298583984, 0.02078947424888611]\n"
     ]
    }
   ],
   "source": [
    "test_seq, test_label = split_data_label(data)\n",
    "test_seq = np.stack(test_seq.values)\n",
    "test_seq = test_seq[..., np.newaxis]\n",
    "\n",
    "test_label = test_label.values\n",
    "test_label = to_categorical(test_label, num_classes=95)\n",
    "\n",
    "test = tf.data.Dataset.from_tensor_slices((test_seq, test_label))\n",
    "test = test.batch(32) \n",
    "\n",
    "final_accuracy = model.evaluate(test)\n",
    "print(final_accuracy)\n"
   ]
  }
 ],
 "metadata": {
  "kernelspec": {
   "display_name": "Python 3",
   "language": "python",
   "name": "python3"
  },
  "language_info": {
   "codemirror_mode": {
    "name": "ipython",
    "version": 3
   },
   "file_extension": ".py",
   "mimetype": "text/x-python",
   "name": "python",
   "nbconvert_exporter": "python",
   "pygments_lexer": "ipython3",
   "version": "3.7.7"
  }
 },
 "nbformat": 4,
 "nbformat_minor": 2
}
