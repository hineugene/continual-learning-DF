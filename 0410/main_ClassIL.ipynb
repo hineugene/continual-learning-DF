{
 "cells": [
  {
   "cell_type": "code",
   "execution_count": 1,
   "id": "b4553190",
   "metadata": {},
   "outputs": [],
   "source": [
    "import import_ipynb\n",
    "import pandas as pd\n",
    "import numpy as np\n",
    "\n",
    "import tensorflow as tf\n",
    "from tensorflow.keras.optimizers.legacy import Adamax, Adam\n",
    "from tensorflow.keras.losses import CategoricalCrossentropy\n",
    "from tensorflow.keras.metrics import CategoricalAccuracy\n",
    "from tensorflow.keras.metrics import Mean\n",
    "from tensorflow.keras.utils import to_categorical\n",
    "from copy import deepcopy"
   ]
  },
  {
   "cell_type": "code",
   "execution_count": 2,
   "id": "be3d1c09",
   "metadata": {},
   "outputs": [],
   "source": [
    "import Model_ClassIL\n",
    "from Model_ClassIL import *"
   ]
  },
  {
   "cell_type": "code",
   "execution_count": 3,
   "id": "598e0029",
   "metadata": {},
   "outputs": [],
   "source": [
    "import utils\n",
    "from utils import *"
   ]
  },
  {
   "cell_type": "code",
   "execution_count": 4,
   "id": "8dd57124",
   "metadata": {},
   "outputs": [],
   "source": [
    "import train_ClassIL\n",
    "from train_ClassIL import *"
   ]
  },
  {
   "cell_type": "code",
   "execution_count": 5,
   "id": "93db1dfd",
   "metadata": {},
   "outputs": [],
   "source": [
    "import ewc_ClassIL\n",
    "from ewc_ClassIL import *"
   ]
  },
  {
   "cell_type": "code",
   "execution_count": 6,
   "id": "987a937b",
   "metadata": {},
   "outputs": [
    {
     "name": "stdout",
     "output_type": "stream",
     "text": [
      "(19000, 2)\n"
     ]
    }
   ],
   "source": [
    "data = pd.read_pickle('mon_data.pkl')\n",
    "print(data.shape)\n",
    "MAX_LABEL = 94"
   ]
  },
  {
   "cell_type": "code",
   "execution_count": 9,
   "id": "287cc5c1",
   "metadata": {},
   "outputs": [
    {
     "name": "stdout",
     "output_type": "stream",
     "text": [
      "455/455 [==============================] - 28s 58ms/step - loss: 4.6660 - accuracy: 0.0306\n",
      "   First_task training accuracy: 0.0306\n",
      "20/20 [==============================] - 4s 63ms/step - loss: 7.6049 - accuracy: 0.0016\n",
      "   1_task training accuracy: 0.0016\n",
      "Task 1 accuracy after training on Task ~0: 0.0110\n"
     ]
    }
   ],
   "source": [
    "MAX_LABEL = 95\n",
    "model = DFNet.build(input_shape=(10000, 1), classes=MAX_LABEL)\n",
    "# 옵티마이저 설정 \n",
    "OPTIMIZER = Adam(learning_rate=0.0002, beta_1=0.9, beta_2=0.999, epsilon=1e-08, decay=0.0)\n",
    "train_loop(model, OPTIMIZER, MAX_LABEL, data, test_size=0.2, first_task = 90, inc_task = 5, first_epochs = 1, inc_epochs = 1, lamb=10, num_sample=100) "
   ]
  }
 ],
 "metadata": {
  "kernelspec": {
   "display_name": "nAIvis",
   "language": "python",
   "name": "python3"
  },
  "language_info": {
   "codemirror_mode": {
    "name": "ipython",
    "version": 3
   },
   "file_extension": ".py",
   "mimetype": "text/x-python",
   "name": "python",
   "nbconvert_exporter": "python",
   "pygments_lexer": "ipython3",
   "version": "3.7.7"
  }
 },
 "nbformat": 4,
 "nbformat_minor": 5
}
