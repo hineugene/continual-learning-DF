{
 "cells": [
  {
   "cell_type": "code",
   "execution_count": 1,
   "metadata": {},
   "outputs": [],
   "source": [
    "import pandas as pd\n",
    "import numpy as np\n",
    "\n",
    "import tensorflow as tf\n",
    "from tensorflow.keras.optimizers.legacy import Adamax, Adam\n",
    "from tensorflow.keras.losses import CategoricalCrossentropy\n",
    "from tensorflow.keras.metrics import CategoricalAccuracy\n",
    "from tensorflow.keras.metrics import Mean\n",
    "from tensorflow.keras.utils import to_categorical\n",
    "from copy import deepcopy"
   ]
  },
  {
   "cell_type": "code",
   "execution_count": 2,
   "metadata": {},
   "outputs": [],
   "source": [
    "import import_ipynb\n",
    "\n",
    "import Model \n",
    "from Model import *\n",
    "\n",
    "import utils\n",
    "from utils import *"
   ]
  },
  {
   "cell_type": "code",
   "execution_count": null,
   "metadata": {},
   "outputs": [],
   "source": [
    "data = pd.read_pickle('mon_data.pkl')"
   ]
  },
  {
   "cell_type": "code",
   "execution_count": 5,
   "metadata": {},
   "outputs": [],
   "source": [
    "# 모델 빌드 \n",
    "model = DFNet.build(input_shape=(10000, 1), classes=50)"
   ]
  },
  {
   "cell_type": "code",
   "execution_count": 6,
   "metadata": {},
   "outputs": [
    {
     "name": "stderr",
     "output_type": "stream",
     "text": [
      "c:\\Users\\swu\\AppData\\Local\\Programs\\Python\\Python37\\lib\\site-packages\\keras\\optimizers\\optimizer_v2\\adamax.py:99: UserWarning: The `lr` argument is deprecated, use `learning_rate` instead.\n",
      "  super().__init__(name, **kwargs)\n"
     ]
    }
   ],
   "source": [
    "# Training the DF model\n",
    "NB_EPOCH = 30   # Number of training epoch\n",
    "BATCH_SIZE = 128 # Batch size\n",
    "VERBOSE = 2 # Output display mode\n",
    "LENGTH = 5000 # Packet sequence length\n",
    "OPTIMIZER = Adamax(lr=0.002, beta_1=0.9, beta_2=0.999, epsilon=1e-08, decay=0.0) # Optimizer"
   ]
  },
  {
   "cell_type": "code",
   "execution_count": 7,
   "metadata": {},
   "outputs": [
    {
     "name": "stdout",
     "output_type": "stream",
     "text": [
      "Model compiled\n"
     ]
    }
   ],
   "source": [
    "# 모델 컴파일\n",
    "model.compile(loss=\"categorical_crossentropy\", optimizer=OPTIMIZER,\n",
    "\tmetrics=[\"accuracy\"])\n",
    "print (\"Model compiled\")"
   ]
  },
  {
   "cell_type": "code",
   "execution_count": null,
   "metadata": {},
   "outputs": [
    {
     "name": "stdout",
     "output_type": "stream",
     "text": [
      "Epoch 1/50\n",
      "250/250 [==============================] - 20s 51ms/step - loss: 3.5960 - accuracy: 0.1213\n",
      "Epoch 2/50\n",
      "250/250 [==============================] - 13s 51ms/step - loss: 2.8258 - accuracy: 0.2649\n",
      "Epoch 3/50\n",
      "250/250 [==============================] - 13s 51ms/step - loss: 2.3425 - accuracy: 0.3805\n",
      "Epoch 4/50\n",
      "250/250 [==============================] - 13s 52ms/step - loss: 1.9609 - accuracy: 0.4835\n",
      "Epoch 5/50\n",
      "250/250 [==============================] - 13s 53ms/step - loss: 1.7099 - accuracy: 0.5533\n",
      "Epoch 6/50\n",
      "250/250 [==============================] - 13s 54ms/step - loss: 1.4814 - accuracy: 0.6050\n",
      "Epoch 7/50\n",
      "250/250 [==============================] - 13s 53ms/step - loss: 1.2902 - accuracy: 0.6650\n",
      "Epoch 8/50\n",
      "250/250 [==============================] - 13s 52ms/step - loss: 1.1325 - accuracy: 0.7017\n",
      "Epoch 9/50\n",
      "250/250 [==============================] - 13s 53ms/step - loss: 0.9921 - accuracy: 0.7344\n",
      "Epoch 10/50\n",
      "250/250 [==============================] - 13s 53ms/step - loss: 0.8800 - accuracy: 0.7717\n",
      "Epoch 11/50\n",
      "250/250 [==============================] - 13s 53ms/step - loss: 0.7622 - accuracy: 0.7968\n",
      "Epoch 12/50\n",
      "250/250 [==============================] - 13s 54ms/step - loss: 0.6719 - accuracy: 0.8224\n",
      "Epoch 13/50\n",
      "250/250 [==============================] - 13s 54ms/step - loss: 0.6098 - accuracy: 0.8400\n",
      "Epoch 14/50\n",
      "250/250 [==============================] - 14s 54ms/step - loss: 0.5484 - accuracy: 0.8514\n",
      "Epoch 15/50\n",
      "250/250 [==============================] - 13s 54ms/step - loss: 0.4815 - accuracy: 0.8687\n",
      "Epoch 16/50\n",
      "250/250 [==============================] - 13s 53ms/step - loss: 0.4373 - accuracy: 0.8863\n",
      "Epoch 17/50\n",
      "250/250 [==============================] - 13s 53ms/step - loss: 0.4034 - accuracy: 0.8926\n",
      "Epoch 18/50\n",
      "250/250 [==============================] - 13s 53ms/step - loss: 0.3732 - accuracy: 0.8991\n",
      "Epoch 19/50\n",
      "250/250 [==============================] - 14s 54ms/step - loss: 0.3429 - accuracy: 0.9050\n",
      "Epoch 20/50\n",
      "250/250 [==============================] - 13s 54ms/step - loss: 0.3069 - accuracy: 0.9183\n",
      "Epoch 21/50\n",
      "250/250 [==============================] - 14s 54ms/step - loss: 0.3081 - accuracy: 0.9149\n",
      "Epoch 22/50\n",
      "250/250 [==============================] - 14s 56ms/step - loss: 0.2687 - accuracy: 0.9301\n",
      "Epoch 23/50\n",
      "250/250 [==============================] - 14s 55ms/step - loss: 0.2493 - accuracy: 0.9340\n",
      "Epoch 24/50\n",
      "250/250 [==============================] - 14s 54ms/step - loss: 0.2338 - accuracy: 0.9335\n",
      "Epoch 25/50\n",
      "250/250 [==============================] - 14s 54ms/step - loss: 0.2188 - accuracy: 0.9389\n",
      "Epoch 26/50\n",
      "250/250 [==============================] - 14s 54ms/step - loss: 0.2048 - accuracy: 0.9421\n",
      "Epoch 27/50\n",
      "250/250 [==============================] - 14s 55ms/step - loss: 0.1967 - accuracy: 0.9449\n",
      "Epoch 28/50\n",
      "250/250 [==============================] - 14s 54ms/step - loss: 0.1905 - accuracy: 0.9473\n",
      "Epoch 29/50\n",
      "250/250 [==============================] - 13s 54ms/step - loss: 0.1818 - accuracy: 0.9482\n",
      "Epoch 30/50\n",
      "250/250 [==============================] - 13s 54ms/step - loss: 0.1598 - accuracy: 0.9579\n",
      "Epoch 31/50\n",
      "250/250 [==============================] - 14s 54ms/step - loss: 0.1469 - accuracy: 0.9591\n",
      "Epoch 32/50\n",
      "250/250 [==============================] - 14s 55ms/step - loss: 0.1423 - accuracy: 0.9603\n",
      "Epoch 33/50\n",
      "250/250 [==============================] - 14s 54ms/step - loss: 0.1326 - accuracy: 0.9646\n",
      "Epoch 34/50\n",
      "250/250 [==============================] - 13s 53ms/step - loss: 0.1289 - accuracy: 0.9638\n",
      "Epoch 35/50\n",
      "250/250 [==============================] - 13s 54ms/step - loss: 0.1221 - accuracy: 0.9650\n",
      "Epoch 36/50\n",
      "250/250 [==============================] - 13s 54ms/step - loss: 0.1218 - accuracy: 0.9638\n",
      "Epoch 37/50\n",
      "250/250 [==============================] - 13s 54ms/step - loss: 0.1117 - accuracy: 0.9655\n",
      "Epoch 38/50\n",
      "250/250 [==============================] - 13s 54ms/step - loss: 0.1016 - accuracy: 0.9718\n",
      "Epoch 39/50\n",
      "250/250 [==============================] - 13s 54ms/step - loss: 0.1000 - accuracy: 0.9712\n",
      "Epoch 40/50\n",
      "250/250 [==============================] - 14s 55ms/step - loss: 0.0902 - accuracy: 0.9750\n",
      "Epoch 41/50\n",
      "250/250 [==============================] - 14s 55ms/step - loss: 0.0853 - accuracy: 0.9755\n",
      "Epoch 42/50\n",
      "250/250 [==============================] - 14s 54ms/step - loss: 0.0889 - accuracy: 0.9741\n",
      "Epoch 43/50\n",
      "250/250 [==============================] - 13s 54ms/step - loss: 0.0841 - accuracy: 0.9764\n",
      "Epoch 44/50\n",
      "250/250 [==============================] - 13s 54ms/step - loss: 0.0879 - accuracy: 0.9753\n",
      "Epoch 45/50\n",
      "250/250 [==============================] - 14s 54ms/step - loss: 0.0750 - accuracy: 0.9789\n",
      "Epoch 46/50\n",
      "250/250 [==============================] - 14s 55ms/step - loss: 0.0744 - accuracy: 0.9793\n",
      "Epoch 47/50\n",
      "250/250 [==============================] - 14s 54ms/step - loss: 0.0788 - accuracy: 0.9785\n",
      "Epoch 48/50\n",
      "250/250 [==============================] - 14s 55ms/step - loss: 0.0700 - accuracy: 0.9806\n",
      "Epoch 49/50\n",
      "250/250 [==============================] - 14s 55ms/step - loss: 0.0676 - accuracy: 0.9811\n",
      "Epoch 50/50\n",
      "250/250 [==============================] - 14s 55ms/step - loss: 0.0621 - accuracy: 0.9822\n",
      "Data_A training accuracy: 0.9822\n"
     ]
    }
   ],
   "source": [
    "first_part = split_by_label(data, 0, 49)\n",
    "train, test = split_train_test(first_part, test_size=0.2, random_state=11)\n",
    "\n",
    "# 3D ndarray 로 변환 \n",
    "train_seq, train_label = split_data_label(train)\n",
    "\n",
    "train_seq = np.stack(train_seq.values)\n",
    "train_seq = train_seq[..., np.newaxis]\n",
    "\n",
    "train_label = train_label.values\n",
    "train_label = to_categorical(train_label, num_classes=50)\n",
    "                \n",
    "\n",
    "history = model.fit(x=train_seq, y=train_label, epochs=50, verbose=1)\n",
    "print(f\"Data_A training accuracy: {history.history['accuracy'][-1]:.4f}\")"
   ]
  },
  {
   "cell_type": "code",
   "execution_count": 12,
   "metadata": {},
   "outputs": [],
   "source": [
    "# 모델 저장\n",
    "from tensorflow.keras.models import save_model\n",
    "\n",
    "# HDF5 형식으로 저장\n",
    "save_model(model, 'nonbase_model.h5')"
   ]
  }
 ],
 "metadata": {
  "kernelspec": {
   "display_name": "Python 3",
   "language": "python",
   "name": "python3"
  },
  "language_info": {
   "codemirror_mode": {
    "name": "ipython",
    "version": 3
   },
   "file_extension": ".py",
   "mimetype": "text/x-python",
   "name": "python",
   "nbconvert_exporter": "python",
   "pygments_lexer": "ipython3",
   "version": "3.7.7"
  }
 },
 "nbformat": 4,
 "nbformat_minor": 2
}
