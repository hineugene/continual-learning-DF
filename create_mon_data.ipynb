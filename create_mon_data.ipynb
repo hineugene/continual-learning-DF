{
 "cells": [
  {
   "cell_type": "code",
   "execution_count": null,
   "metadata": {},
   "outputs": [],
   "source": [
    "import pandas as pd\n",
    "import numpy as np\n",
    "import pickle"
   ]
  },
  {
   "cell_type": "code",
   "execution_count": 12,
   "metadata": {},
   "outputs": [
    {
     "name": "stdout",
     "output_type": "stream",
     "text": [
      "Loading datafile...\n"
     ]
    },
    {
     "data": {
      "text/html": [
       "<div>\n",
       "<style scoped>\n",
       "    .dataframe tbody tr th:only-of-type {\n",
       "        vertical-align: middle;\n",
       "    }\n",
       "\n",
       "    .dataframe tbody tr th {\n",
       "        vertical-align: top;\n",
       "    }\n",
       "\n",
       "    .dataframe thead th {\n",
       "        text-align: right;\n",
       "    }\n",
       "</style>\n",
       "<table border=\"1\" class=\"dataframe\">\n",
       "  <thead>\n",
       "    <tr style=\"text-align: right;\">\n",
       "      <th></th>\n",
       "      <th>Timestamps</th>\n",
       "      <th>Direction_Only_Sequence</th>\n",
       "      <th>Label</th>\n",
       "    </tr>\n",
       "  </thead>\n",
       "  <tbody>\n",
       "    <tr>\n",
       "      <th>0</th>\n",
       "      <td>[0.0, 0.14, 0.14, 0.31, 0.31, 0.51, 0.51, 0.51...</td>\n",
       "      <td>[-512, -512, 512, -512, 512, -512, 512, 512, -...</td>\n",
       "      <td>0</td>\n",
       "    </tr>\n",
       "    <tr>\n",
       "      <th>1</th>\n",
       "      <td>[0.0, 0.13, 0.13, 0.31, 0.77, 1.11, 1.11, 1.11...</td>\n",
       "      <td>[-512, -512, 512, -512, 512, -512, 512, 512, -...</td>\n",
       "      <td>0</td>\n",
       "    </tr>\n",
       "    <tr>\n",
       "      <th>2</th>\n",
       "      <td>[0.0, 0.11, 0.11, 0.23, 0.97, 1.11, 1.11, 1.11...</td>\n",
       "      <td>[-512, -512, 512, -512, 512, -512, 512, 512, -...</td>\n",
       "      <td>0</td>\n",
       "    </tr>\n",
       "    <tr>\n",
       "      <th>3</th>\n",
       "      <td>[0.0, 0.27, 0.27, 0.6, 0.6, 0.88, 0.89, 0.89, ...</td>\n",
       "      <td>[-512, -512, 512, -512, 512, -512, 512, 512, -...</td>\n",
       "      <td>0</td>\n",
       "    </tr>\n",
       "    <tr>\n",
       "      <th>4</th>\n",
       "      <td>[0.0, 0.11, 0.11, 0.36, 0.36, 0.6, 0.6, 0.6, 0...</td>\n",
       "      <td>[-512, -512, 512, -512, 512, -512, 512, 512, -...</td>\n",
       "      <td>0</td>\n",
       "    </tr>\n",
       "  </tbody>\n",
       "</table>\n",
       "</div>"
      ],
      "text/plain": [
       "                                          Timestamps  \\\n",
       "0  [0.0, 0.14, 0.14, 0.31, 0.31, 0.51, 0.51, 0.51...   \n",
       "1  [0.0, 0.13, 0.13, 0.31, 0.77, 1.11, 1.11, 1.11...   \n",
       "2  [0.0, 0.11, 0.11, 0.23, 0.97, 1.11, 1.11, 1.11...   \n",
       "3  [0.0, 0.27, 0.27, 0.6, 0.6, 0.88, 0.89, 0.89, ...   \n",
       "4  [0.0, 0.11, 0.11, 0.36, 0.36, 0.6, 0.6, 0.6, 0...   \n",
       "\n",
       "                             Direction_Only_Sequence  Label  \n",
       "0  [-512, -512, 512, -512, 512, -512, 512, 512, -...      0  \n",
       "1  [-512, -512, 512, -512, 512, -512, 512, 512, -...      0  \n",
       "2  [-512, -512, 512, -512, 512, -512, 512, 512, -...      0  \n",
       "3  [-512, -512, 512, -512, 512, -512, 512, 512, -...      0  \n",
       "4  [-512, -512, 512, -512, 512, -512, 512, 512, -...      0  "
      ]
     },
     "execution_count": 12,
     "metadata": {},
     "output_type": "execute_result"
    }
   ],
   "source": [
    "USE_SUBLABEL = False\n",
    "URL_PER_SITE = 10\n",
    "TOTAL_URLS = 950\n",
    "\n",
    "print(\"Loading datafile...\")\n",
    "with open('mon_standard.pkl', 'rb') as fi: # mon_standard.pkl in directory\n",
    "    data = pickle.load(fi)\n",
    "\n",
    "Timestamps = []\n",
    "Direction_Only_Sequence = []\n",
    "Label = []\n",
    "\n",
    "for i in range(TOTAL_URLS):\n",
    "    if USE_SUBLABEL:\n",
    "        label = i\n",
    "    else:\n",
    "        label = i // URL_PER_SITE\n",
    "    for sample in data[i]:\n",
    "        size_seq = []\n",
    "        time_seq = []\n",
    "        for c in sample:\n",
    "            dr = 1 if c > 0 else -1\n",
    "            time_seq.append(abs(c))\n",
    "            size_seq.append(dr * 512)\n",
    "        Timestamps.append(time_seq)\n",
    "        Direction_Only_Sequence.append(size_seq)\n",
    "        Label.append(label)\n",
    "\n",
    "data_dict = {\n",
    "    \"Timestamps\": Timestamps,\n",
    "    \"Direction_Only_Sequence\": Direction_Only_Sequence,\n",
    "    \"Label\":Label\n",
    "}\n",
    "df = pd.DataFrame(data_dict)\n",
    "\n",
    "df.head(5)"
   ]
  },
  {
   "cell_type": "code",
   "execution_count": 13,
   "metadata": {},
   "outputs": [],
   "source": [
    "# Drop Timestamps\n",
    "df = df.drop(columns=[\"Timestamps\"])\n",
    "\n",
    "# Filter label 0-94\n",
    "df = df[df['Label'].between(0, 94)]\n",
    "\n",
    "# Function to adjust the sequence length to a target length\n",
    "def adjust_sequence_length(sequence, target_length=10000, padding_value=-1):\n",
    "    if len(sequence) < target_length:\n",
    "        # If the sequence is shorter than the target length, pad with the specified value\n",
    "        sequence = sequence + [padding_value] * (target_length - len(sequence))\n",
    "    else:\n",
    "        # If the sequence is longer than the target length, truncate it\n",
    "        sequence = sequence[:target_length]\n",
    "    return sequence\n",
    "\n",
    "# Adjust length\n",
    "df['Direction_Only_Sequence'] = df['Direction_Only_Sequence'].apply(lambda x: adjust_sequence_length(x))\n",
    "\n",
    "# Convert to NumPy array and add dimension\n",
    "mon_data = np.array(df['Direction_Only_Sequence'].tolist(), dtype=np.float32)\n",
    "mon_data = mon_data[:, :, np.newaxis]  # (19000, 10000, 1)\n",
    "\n",
    "# Save Numpy array as pkl file\n",
    "with open(\"mon_data.pkl\", \"wb\") as f:\n",
    "    pickle.dump(mon_data, f)"
   ]
  },
  {
   "cell_type": "code",
   "execution_count": 14,
   "metadata": {},
   "outputs": [
    {
     "name": "stdout",
     "output_type": "stream",
     "text": [
      "(19000, 10000, 1) mon_data\n"
     ]
    }
   ],
   "source": [
    "print(mon_data.shape, 'mon_data')"
   ]
  }
 ],
 "metadata": {
  "kernelspec": {
   "display_name": "DF_nAIvis",
   "language": "python",
   "name": "python3"
  },
  "language_info": {
   "codemirror_mode": {
    "name": "ipython",
    "version": 3
   },
   "file_extension": ".py",
   "mimetype": "text/x-python",
   "name": "python",
   "nbconvert_exporter": "python",
   "pygments_lexer": "ipython3",
   "version": "3.7.12"
  }
 },
 "nbformat": 4,
 "nbformat_minor": 2
}
