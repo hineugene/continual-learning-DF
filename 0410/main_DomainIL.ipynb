{
 "cells": [
  {
   "cell_type": "code",
   "execution_count": 1,
   "id": "b4553190",
   "metadata": {},
   "outputs": [],
   "source": [
    "import import_ipynb\n",
    "import pandas as pd\n",
    "import numpy as np\n",
    "\n",
    "import tensorflow as tf\n",
    "from tensorflow.keras.optimizers.legacy import Adamax, Adam\n",
    "from tensorflow.keras.losses import CategoricalCrossentropy\n",
    "from tensorflow.keras.metrics import CategoricalAccuracy\n",
    "from tensorflow.keras.metrics import Mean\n",
    "from tensorflow.keras.utils import to_categorical\n",
    "from copy import deepcopy"
   ]
  },
  {
   "cell_type": "code",
   "execution_count": 2,
   "id": "be3d1c09",
   "metadata": {},
   "outputs": [],
   "source": [
    "import Model_DomainIL\n",
    "from Model_DomainIL import *"
   ]
  },
  {
   "cell_type": "code",
   "execution_count": 3,
   "id": "598e0029",
   "metadata": {},
   "outputs": [],
   "source": [
    "import utils\n",
    "from utils import *"
   ]
  },
  {
   "cell_type": "code",
   "execution_count": 4,
   "id": "8dd57124",
   "metadata": {},
   "outputs": [],
   "source": [
    "import train_DomainIL \n",
    "from train_DomainIL import *"
   ]
  },
  {
   "cell_type": "code",
   "execution_count": 5,
   "id": "333e8e58",
   "metadata": {},
   "outputs": [],
   "source": [
    "import ewc_DomainIL\n",
    "from ewc_DomainIL import *"
   ]
  },
  {
   "cell_type": "code",
   "execution_count": 6,
   "id": "987a937b",
   "metadata": {},
   "outputs": [
    {
     "name": "stdout",
     "output_type": "stream",
     "text": [
      "(19000, 2)\n"
     ]
    }
   ],
   "source": [
    "cw_data = pd.read_pickle('mon_data.pkl')\n",
    "print(cw_data.shape)\n",
    "MAX_LABEL = 94"
   ]
  },
  {
   "cell_type": "code",
   "execution_count": 7,
   "id": "a2615df8",
   "metadata": {},
   "outputs": [
    {
     "name": "stdout",
     "output_type": "stream",
     "text": [
      "(10000, 2)\n"
     ]
    }
   ],
   "source": [
    "ow_data = pd.read_pickle('unmon_data.pkl')\n",
    "print(ow_data.shape)"
   ]
  },
  {
   "cell_type": "code",
   "execution_count": 8,
   "id": "287cc5c1",
   "metadata": {},
   "outputs": [
    {
     "name": "stdout",
     "output_type": "stream",
     "text": [
      "Epoch 1/2\n",
      "250/250 [==============================] - 66s 235ms/step - loss: 0.2248 - accuracy: 0.9178\n",
      "Epoch 2/2\n",
      "250/250 [==============================] - 67s 267ms/step - loss: 0.0180 - accuracy: 0.9998\n",
      "   First_task training accuracy: 0.9998\n",
      "225/225 [==============================] - 68s 283ms/step - loss: 0.0076 - accuracy: 1.0000\n",
      "   1_task training accuracy: 1.0000\n",
      "Task 1 accuracy after training on Task ~0: 1.0000\n"
     ]
    }
   ],
   "source": [
    "model = DFNet.build(input_shape=(10000, 1), classes=1)\n",
    "# 옵티마이저 설정 \n",
    "OPTIMIZER = Adam(learning_rate=0.0002, beta_1=0.9, beta_2=0.999, epsilon=1e-08, decay=0.0)\n",
    "train_loop_domain(model, OPTIMIZER, MAX_LABEL, cw_data, ow_data, test_size=0.2, first_task = 49, inc_task = 45, first_epochs = 2, inc_epochs = 1, lamb=10, num_sample=100) "
   ]
  }
 ],
 "metadata": {
  "kernelspec": {
   "display_name": "nAIvis",
   "language": "python",
   "name": "python3"
  },
  "language_info": {
   "codemirror_mode": {
    "name": "ipython",
    "version": 3
   },
   "file_extension": ".py",
   "mimetype": "text/x-python",
   "name": "python",
   "nbconvert_exporter": "python",
   "pygments_lexer": "ipython3",
   "version": "3.7.7"
  }
 },
 "nbformat": 4,
 "nbformat_minor": 5
}
