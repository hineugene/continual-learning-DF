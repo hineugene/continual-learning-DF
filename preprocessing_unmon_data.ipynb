{
 "cells": [
  {
   "cell_type": "code",
   "execution_count": 1,
   "metadata": {},
   "outputs": [],
   "source": [
    "import pandas as pd\n",
    "import numpy as np\n",
    "import pickle"
   ]
  },
  {
   "cell_type": "code",
   "execution_count": 2,
   "metadata": {},
   "outputs": [],
   "source": [
    "data = pd.read_csv(\"unmon_standard10_dataset.csv\")"
   ]
  },
  {
   "cell_type": "code",
   "execution_count": 4,
   "metadata": {},
   "outputs": [],
   "source": [
    "data = data[['Direction_Size_Sequence']]"
   ]
  },
  {
   "cell_type": "code",
   "execution_count": 5,
   "metadata": {},
   "outputs": [],
   "source": [
    "data['Direction_Sequence'] = data['Direction_Size_Sequence'].apply(lambda x: [1 if i > 0 else -1 for i in eval(x)])"
   ]
  },
  {
   "cell_type": "code",
   "execution_count": 10,
   "metadata": {},
   "outputs": [],
   "source": [
    "data['Label']=-1"
   ]
  },
  {
   "cell_type": "code",
   "execution_count": 7,
   "metadata": {},
   "outputs": [],
   "source": [
    "def adjust_sequence_length(sequence, target_length=10000, padding_value=-1):\n",
    "    if isinstance(sequence, (int, float, np.float32, np.float64)):\n",
    "        sequence = [sequence]\n",
    "    if len(sequence) < target_length:\n",
    "        sequence = sequence + [padding_value] * (target_length - len(sequence))\n",
    "    else:\n",
    "        sequence = sequence[:target_length]\n",
    "    return sequence"
   ]
  },
  {
   "cell_type": "code",
   "execution_count": 12,
   "metadata": {},
   "outputs": [
    {
     "data": {
      "text/plain": [
       "(10000, 10000)"
      ]
     },
     "execution_count": 12,
     "metadata": {},
     "output_type": "execute_result"
    }
   ],
   "source": [
    "# Convert DataFrame column to NumPy array\n",
    "sequence_array = data['Direction_Sequence'].to_numpy()\n",
    "\n",
    "# Adjust sequence lengths\n",
    "sequence_array = np.array([adjust_sequence_length(seq) for seq in sequence_array])\n",
    "\n",
    "sequence_array.shape"
   ]
  },
  {
   "cell_type": "code",
   "execution_count": 14,
   "metadata": {},
   "outputs": [],
   "source": [
    "unmon_data = pd.DataFrame({\n",
    "    'Direction_Sequence': list(sequence_array),\n",
    "    'Label': data['Label'].values \n",
    "})"
   ]
  },
  {
   "cell_type": "code",
   "execution_count": 15,
   "metadata": {},
   "outputs": [
    {
     "data": {
      "text/html": [
       "<div>\n",
       "<style scoped>\n",
       "    .dataframe tbody tr th:only-of-type {\n",
       "        vertical-align: middle;\n",
       "    }\n",
       "\n",
       "    .dataframe tbody tr th {\n",
       "        vertical-align: top;\n",
       "    }\n",
       "\n",
       "    .dataframe thead th {\n",
       "        text-align: right;\n",
       "    }\n",
       "</style>\n",
       "<table border=\"1\" class=\"dataframe\">\n",
       "  <thead>\n",
       "    <tr style=\"text-align: right;\">\n",
       "      <th></th>\n",
       "      <th>Direction_Sequence</th>\n",
       "      <th>Label</th>\n",
       "    </tr>\n",
       "  </thead>\n",
       "  <tbody>\n",
       "    <tr>\n",
       "      <th>9600</th>\n",
       "      <td>[-1, -1, 1, -1, 1, -1, 1, -1, 1, -1, 1, 1, -1,...</td>\n",
       "      <td>-1</td>\n",
       "    </tr>\n",
       "    <tr>\n",
       "      <th>9601</th>\n",
       "      <td>[-1, -1, 1, -1, 1, -1, 1, -1, -1, -1, -1, -1, ...</td>\n",
       "      <td>-1</td>\n",
       "    </tr>\n",
       "    <tr>\n",
       "      <th>9602</th>\n",
       "      <td>[-1, -1, 1, -1, 1, -1, 1, -1, -1, 1, -1, 1, 1,...</td>\n",
       "      <td>-1</td>\n",
       "    </tr>\n",
       "    <tr>\n",
       "      <th>9603</th>\n",
       "      <td>[-1, -1, 1, -1, 1, -1, 1, -1, 1, -1, 1, 1, -1,...</td>\n",
       "      <td>-1</td>\n",
       "    </tr>\n",
       "    <tr>\n",
       "      <th>9604</th>\n",
       "      <td>[-1, -1, 1, -1, 1, -1, 1, -1, 1, -1, 1, 1, -1,...</td>\n",
       "      <td>-1</td>\n",
       "    </tr>\n",
       "    <tr>\n",
       "      <th>...</th>\n",
       "      <td>...</td>\n",
       "      <td>...</td>\n",
       "    </tr>\n",
       "    <tr>\n",
       "      <th>9995</th>\n",
       "      <td>[-1, -1, 1, -1, 1, -1, 1, -1, 1, -1, 1, 1, -1,...</td>\n",
       "      <td>-1</td>\n",
       "    </tr>\n",
       "    <tr>\n",
       "      <th>9996</th>\n",
       "      <td>[-1, -1, 1, -1, 1, -1, 1, -1, 1, -1, 1, 1, -1,...</td>\n",
       "      <td>-1</td>\n",
       "    </tr>\n",
       "    <tr>\n",
       "      <th>9997</th>\n",
       "      <td>[-1, -1, 1, -1, 1, -1, 1, -1, -1, -1, -1, -1, ...</td>\n",
       "      <td>-1</td>\n",
       "    </tr>\n",
       "    <tr>\n",
       "      <th>9998</th>\n",
       "      <td>[-1, -1, 1, -1, 1, -1, 1, -1, -1, -1, -1, -1, ...</td>\n",
       "      <td>-1</td>\n",
       "    </tr>\n",
       "    <tr>\n",
       "      <th>9999</th>\n",
       "      <td>[-1, -1, 1, -1, 1, -1, 1, -1, 1, -1, 1, 1, -1,...</td>\n",
       "      <td>-1</td>\n",
       "    </tr>\n",
       "  </tbody>\n",
       "</table>\n",
       "<p>400 rows × 2 columns</p>\n",
       "</div>"
      ],
      "text/plain": [
       "                                     Direction_Sequence  Label\n",
       "9600  [-1, -1, 1, -1, 1, -1, 1, -1, 1, -1, 1, 1, -1,...     -1\n",
       "9601  [-1, -1, 1, -1, 1, -1, 1, -1, -1, -1, -1, -1, ...     -1\n",
       "9602  [-1, -1, 1, -1, 1, -1, 1, -1, -1, 1, -1, 1, 1,...     -1\n",
       "9603  [-1, -1, 1, -1, 1, -1, 1, -1, 1, -1, 1, 1, -1,...     -1\n",
       "9604  [-1, -1, 1, -1, 1, -1, 1, -1, 1, -1, 1, 1, -1,...     -1\n",
       "...                                                 ...    ...\n",
       "9995  [-1, -1, 1, -1, 1, -1, 1, -1, 1, -1, 1, 1, -1,...     -1\n",
       "9996  [-1, -1, 1, -1, 1, -1, 1, -1, 1, -1, 1, 1, -1,...     -1\n",
       "9997  [-1, -1, 1, -1, 1, -1, 1, -1, -1, -1, -1, -1, ...     -1\n",
       "9998  [-1, -1, 1, -1, 1, -1, 1, -1, -1, -1, -1, -1, ...     -1\n",
       "9999  [-1, -1, 1, -1, 1, -1, 1, -1, 1, -1, 1, 1, -1,...     -1\n",
       "\n",
       "[400 rows x 2 columns]"
      ]
     },
     "execution_count": 15,
     "metadata": {},
     "output_type": "execute_result"
    }
   ],
   "source": [
    "unmon_data.tail(400)"
   ]
  },
  {
   "cell_type": "code",
   "execution_count": 16,
   "metadata": {},
   "outputs": [
    {
     "name": "stdout",
     "output_type": "stream",
     "text": [
      "Data processed and saved successfully.\n"
     ]
    }
   ],
   "source": [
    "unmon_data.to_pickle(\"unmon_data.pkl\")\n",
    "\n",
    "print(\"Data processed and saved successfully.\")"
   ]
  },
  {
   "cell_type": "code",
   "execution_count": 17,
   "metadata": {},
   "outputs": [
    {
     "data": {
      "text/plain": [
       "10000"
      ]
     },
     "execution_count": 17,
     "metadata": {},
     "output_type": "execute_result"
    }
   ],
   "source": [
    "# padding 확인, 2525 대신 다른 데이터 넣어보기\n",
    "len(unmon_data.loc[2525, 'Direction_Sequence'])"
   ]
  },
  {
   "cell_type": "code",
   "execution_count": 19,
   "metadata": {},
   "outputs": [
    {
     "data": {
      "text/plain": [
       "(10000, 2)"
      ]
     },
     "execution_count": 19,
     "metadata": {},
     "output_type": "execute_result"
    }
   ],
   "source": [
    "label = unmon_data[unmon_data['Label']==0]\n",
    "label.shape"
   ]
  }
 ],
 "metadata": {
  "kernelspec": {
   "display_name": "DF_nAIvis",
   "language": "python",
   "name": "python3"
  },
  "language_info": {
   "codemirror_mode": {
    "name": "ipython",
    "version": 3
   },
   "file_extension": ".py",
   "mimetype": "text/x-python",
   "name": "python",
   "nbconvert_exporter": "python",
   "pygments_lexer": "ipython3",
   "version": "3.7.12"
  }
 },
 "nbformat": 4,
 "nbformat_minor": 2
}
