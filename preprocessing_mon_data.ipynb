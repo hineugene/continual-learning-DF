{
 "cells": [
  {
   "cell_type": "code",
   "execution_count": 1,
   "metadata": {},
   "outputs": [],
   "source": [
    "import pandas as pd\n",
    "import numpy as np\n",
    "import pickle\n",
    "import sklearn\n",
    "from sklearn.model_selection import train_test_split"
   ]
  },
  {
   "cell_type": "code",
   "execution_count": 2,
   "metadata": {},
   "outputs": [],
   "source": [
    "data = pd.read_csv(\"mon_standard_dataset.csv\")"
   ]
  },
  {
   "cell_type": "code",
   "execution_count": 3,
   "metadata": {},
   "outputs": [],
   "source": [
    "data = data[['Direction_Size_Sequence', 'Label']]"
   ]
  },
  {
   "cell_type": "code",
   "execution_count": 4,
   "metadata": {},
   "outputs": [],
   "source": [
    "data['Direction_Sequence'] = data['Direction_Size_Sequence'].apply(lambda x: [1 if i > 0 else -1 for i in eval(x)])"
   ]
  },
  {
   "cell_type": "code",
   "execution_count": 5,
   "metadata": {},
   "outputs": [],
   "source": [
    "# 라벨이 0~94 사이인 데이터만 필터링\n",
    "data = data[data['Label'].between(0, 94)]"
   ]
  },
  {
   "cell_type": "code",
   "execution_count": 6,
   "metadata": {},
   "outputs": [],
   "source": [
    "def adjust_sequence_length(sequence, target_length=10000, padding_value=-1):\n",
    "    if isinstance(sequence, (int, float, np.float32, np.float64)):\n",
    "        sequence = [sequence]\n",
    "    if len(sequence) < target_length:\n",
    "        sequence = sequence + [padding_value] * (target_length - len(sequence))\n",
    "    else:\n",
    "        sequence = sequence[:target_length]\n",
    "    return sequence\n"
   ]
  },
  {
   "cell_type": "code",
   "execution_count": 7,
   "metadata": {},
   "outputs": [
    {
     "data": {
      "text/plain": [
       "(19000, 10000)"
      ]
     },
     "execution_count": 7,
     "metadata": {},
     "output_type": "execute_result"
    }
   ],
   "source": [
    "# Convert DataFrame column to NumPy array\n",
    "sequence_array = data['Direction_Sequence'].to_numpy()\n",
    "\n",
    "# Adjust sequence lengths\n",
    "sequence_array = np.array([adjust_sequence_length(seq) for seq in sequence_array])\n",
    "\n",
    "sequence_array.shape"
   ]
  },
  {
   "cell_type": "code",
   "execution_count": 8,
   "metadata": {},
   "outputs": [
    {
     "data": {
      "text/plain": [
       "(19000,)"
      ]
     },
     "execution_count": 8,
     "metadata": {},
     "output_type": "execute_result"
    }
   ],
   "source": [
    "data['Label'].shape"
   ]
  },
  {
   "cell_type": "code",
   "execution_count": 9,
   "metadata": {},
   "outputs": [],
   "source": [
    "mon_data = pd.DataFrame({\n",
    "    'Direction_Sequence': list(sequence_array),\n",
    "    'Label': data['Label'].values \n",
    "})"
   ]
  },
  {
   "cell_type": "code",
   "execution_count": 10,
   "metadata": {},
   "outputs": [
    {
     "name": "stdout",
     "output_type": "stream",
     "text": [
      "Data processed and saved successfully.\n"
     ]
    }
   ],
   "source": [
    "# Save the processed data\n",
    "# pandas에서 .to_pickle()을 사용하여 DataFrame을 저장하고, pd.read_pickle()을 사용하여 불러오기\n",
    "mon_data.to_pickle(\"mon_data.pkl\")\n",
    "\n",
    "print(\"Data processed and saved successfully.\")"
   ]
  },
  {
   "cell_type": "markdown",
   "metadata": {},
   "source": [
    "### 데이터 처리 확인\n"
   ]
  },
  {
   "cell_type": "code",
   "execution_count": 11,
   "metadata": {},
   "outputs": [
    {
     "data": {
      "text/html": [
       "<div>\n",
       "<style scoped>\n",
       "    .dataframe tbody tr th:only-of-type {\n",
       "        vertical-align: middle;\n",
       "    }\n",
       "\n",
       "    .dataframe tbody tr th {\n",
       "        vertical-align: top;\n",
       "    }\n",
       "\n",
       "    .dataframe thead th {\n",
       "        text-align: right;\n",
       "    }\n",
       "</style>\n",
       "<table border=\"1\" class=\"dataframe\">\n",
       "  <thead>\n",
       "    <tr style=\"text-align: right;\">\n",
       "      <th></th>\n",
       "      <th>Direction_Sequence</th>\n",
       "      <th>Label</th>\n",
       "    </tr>\n",
       "  </thead>\n",
       "  <tbody>\n",
       "    <tr>\n",
       "      <th>18995</th>\n",
       "      <td>[-1, -1, 1, -1, 1, -1, 1, 1, -1, -1, -1, -1, -...</td>\n",
       "      <td>94</td>\n",
       "    </tr>\n",
       "    <tr>\n",
       "      <th>18996</th>\n",
       "      <td>[-1, -1, 1, -1, 1, -1, 1, 1, -1, -1, -1, -1, -...</td>\n",
       "      <td>94</td>\n",
       "    </tr>\n",
       "    <tr>\n",
       "      <th>18997</th>\n",
       "      <td>[-1, -1, 1, -1, 1, -1, 1, 1, -1, -1, -1, -1, -...</td>\n",
       "      <td>94</td>\n",
       "    </tr>\n",
       "    <tr>\n",
       "      <th>18998</th>\n",
       "      <td>[-1, -1, 1, -1, 1, -1, 1, 1, -1, -1, -1, -1, -...</td>\n",
       "      <td>94</td>\n",
       "    </tr>\n",
       "    <tr>\n",
       "      <th>18999</th>\n",
       "      <td>[-1, -1, 1, -1, 1, -1, 1, 1, -1, -1, -1, -1, -...</td>\n",
       "      <td>94</td>\n",
       "    </tr>\n",
       "  </tbody>\n",
       "</table>\n",
       "</div>"
      ],
      "text/plain": [
       "                                      Direction_Sequence  Label\n",
       "18995  [-1, -1, 1, -1, 1, -1, 1, 1, -1, -1, -1, -1, -...     94\n",
       "18996  [-1, -1, 1, -1, 1, -1, 1, 1, -1, -1, -1, -1, -...     94\n",
       "18997  [-1, -1, 1, -1, 1, -1, 1, 1, -1, -1, -1, -1, -...     94\n",
       "18998  [-1, -1, 1, -1, 1, -1, 1, 1, -1, -1, -1, -1, -...     94\n",
       "18999  [-1, -1, 1, -1, 1, -1, 1, 1, -1, -1, -1, -1, -...     94"
      ]
     },
     "execution_count": 11,
     "metadata": {},
     "output_type": "execute_result"
    }
   ],
   "source": [
    "mon_data.tail()"
   ]
  },
  {
   "cell_type": "code",
   "execution_count": 14,
   "metadata": {},
   "outputs": [
    {
     "data": {
      "text/plain": [
       "10000"
      ]
     },
     "execution_count": 14,
     "metadata": {},
     "output_type": "execute_result"
    }
   ],
   "source": [
    "# padding 확인, 2525 대신 다른 데이터 넣어보기\n",
    "len(mon_data.loc[2520, 'Direction_Sequence'])"
   ]
  },
  {
   "cell_type": "code",
   "execution_count": 13,
   "metadata": {},
   "outputs": [
    {
     "data": {
      "text/plain": [
       "(200, 2)"
      ]
     },
     "execution_count": 13,
     "metadata": {},
     "output_type": "execute_result"
    }
   ],
   "source": [
    "# 라벨별 데이터 모아보기\n",
    "# 95 * 200 = 19000 \n",
    "Label_10 = mon_data[mon_data['Label']==94]\n",
    "Label_10.shape"
   ]
  },
  {
   "cell_type": "code",
   "execution_count": 15,
   "metadata": {},
   "outputs": [],
   "source": [
    "def split_data(data, m, n):\n",
    "    \"\"\"\n",
    "    데이터프레임에서 클래스 라벨이 m부터 n까지인 데이터를 추출합니다.\n",
    "    \n",
    "    Parameters:\n",
    "    data (pd.DataFrame): 원본 데이터프레임\n",
    "    m (int): 시작 클래스 라벨\n",
    "    n (int): 끝 클래스 라벨\n",
    "    \n",
    "    Returns:\n",
    "    pd.DataFrame: 추출된 데이터\n",
    "    \"\"\"\n",
    "    return data[data['Label'].between(m, n)]"
   ]
  },
  {
   "cell_type": "code",
   "execution_count": 16,
   "metadata": {},
   "outputs": [
    {
     "name": "stdout",
     "output_type": "stream",
     "text": [
      "추출된 데이터 shape: (2200, 2)\n",
      "추출된 데이터의 라벨 분포:\n",
      "Label\n",
      "0     200\n",
      "1     200\n",
      "2     200\n",
      "3     200\n",
      "4     200\n",
      "5     200\n",
      "6     200\n",
      "7     200\n",
      "8     200\n",
      "9     200\n",
      "10    200\n",
      "Name: count, dtype: int64\n"
     ]
    }
   ],
   "source": [
    "# 사용 예시\n",
    "m, n = 0, 10  # 클래스 라벨 0부터 10까지 추출\n",
    "subset_data = split_data(mon_data, m, n)\n",
    "print(f\"추출된 데이터 shape: {subset_data.shape}\")\n",
    "print(f\"추출된 데이터의 라벨 분포:\\n{subset_data['Label'].value_counts().sort_index()}\")"
   ]
  },
  {
   "cell_type": "code",
   "execution_count": 19,
   "metadata": {},
   "outputs": [],
   "source": [
    "def accumulate_data(existing_data, m, n):\n",
    "    new_data = mon_data[mon_data['Label'].between(m, n)]\n",
    "    combined_data = pd.concat([existing_data, new_data], axis=0, ignore_index=True)\n",
    "    \n",
    "    return combined_data\n"
   ]
  },
  {
   "cell_type": "code",
   "execution_count": 20,
   "metadata": {},
   "outputs": [
    {
     "name": "stdout",
     "output_type": "stream",
     "text": [
      "최종 데이터 shape: (10000, 2)\n",
      "클래스 분포:\n",
      "Label\n",
      "0     200\n",
      "1     200\n",
      "2     200\n",
      "3     200\n",
      "4     200\n",
      "5     200\n",
      "6     200\n",
      "7     200\n",
      "8     200\n",
      "9     200\n",
      "10    200\n",
      "11    200\n",
      "12    200\n",
      "13    200\n",
      "14    200\n",
      "15    200\n",
      "16    200\n",
      "17    200\n",
      "18    200\n",
      "19    200\n",
      "20    200\n",
      "21    200\n",
      "22    200\n",
      "23    200\n",
      "24    200\n",
      "25    200\n",
      "26    200\n",
      "27    200\n",
      "28    200\n",
      "29    200\n",
      "30    200\n",
      "31    200\n",
      "32    200\n",
      "33    200\n",
      "34    200\n",
      "35    200\n",
      "36    200\n",
      "37    200\n",
      "38    200\n",
      "39    200\n",
      "40    200\n",
      "41    200\n",
      "42    200\n",
      "43    200\n",
      "44    200\n",
      "45    200\n",
      "46    200\n",
      "47    200\n",
      "48    200\n",
      "49    200\n",
      "Name: count, dtype: int64\n"
     ]
    }
   ],
   "source": [
    "# 초기 데이터셋 (클래스 0~44)\n",
    "existing_data = mon_data[mon_data['Label'].between(0, 44)]\n",
    "\n",
    "# 클래스 45~49 데이터 추가\n",
    "existing_data = accumulate_data(existing_data, 45, 49)\n",
    "\n",
    "# 결과 확인\n",
    "print(f\"최종 데이터 shape: {existing_data.shape}\")\n",
    "print(f\"클래스 분포:\\n{existing_data['Label'].value_counts().sort_index()}\")\n"
   ]
  },
  {
   "cell_type": "code",
   "execution_count": 21,
   "metadata": {},
   "outputs": [],
   "source": [
    "import pandas as pd\n",
    "\n",
    "def accumulate_data2(data1, data2):\n",
    "    \"\"\"\n",
    "    두 데이터프레임을 세로로 합칩니다.\n",
    "\n",
    "    Parameters:\n",
    "    data1 (pd.DataFrame): 첫 번째 데이터프레임\n",
    "    data2 (pd.DataFrame): 두 번째 데이터프레임\n",
    "\n",
    "    Returns:\n",
    "    pd.DataFrame: 합쳐진 데이터프레임\n",
    "    \"\"\"\n",
    "    combined_data = pd.concat([data1, data2], axis=0, ignore_index=True)\n",
    "    return combined_data"
   ]
  },
  {
   "cell_type": "code",
   "execution_count": 22,
   "metadata": {},
   "outputs": [
    {
     "name": "stdout",
     "output_type": "stream",
     "text": [
      "합쳐진 데이터의 shape: (10000, 2)\n",
      "원본 데이터1의 shape: (9000, 2)\n",
      "원본 데이터2의 shape: (1000, 2)\n",
      "합쳐진 데이터의 Label 범위: 0 ~ 49\n",
      "테스트가 성공적으로 완료되었습니다.\n"
     ]
    }
   ],
   "source": [
    "# 테스트 코드\n",
    "# mon_data에서 0~44 클래스와 45~49 클래스 데이터 추출\n",
    "data1 = mon_data[mon_data['Label'].between(0, 44)]\n",
    "data2 = mon_data[mon_data['Label'].between(45, 49)]\n",
    "\n",
    "# accumulate_data2 함수 실행\n",
    "result = accumulate_data2(data1, data2)\n",
    "\n",
    "# 결과 확인\n",
    "print(f\"합쳐진 데이터의 shape: {result.shape}\")\n",
    "print(f\"원본 데이터1의 shape: {data1.shape}\")\n",
    "print(f\"원본 데이터2의 shape: {data2.shape}\")\n",
    "print(f\"합쳐진 데이터의 Label 범위: {result['Label'].min()} ~ {result['Label'].max()}\")\n",
    "\n",
    "# 데이터가 올바르게 합쳐졌는지 확인\n",
    "assert len(result) == len(data1) + len(data2), \"합쳐진 데이터의 길이가 올바르지 않습니다.\"\n",
    "assert list(result.columns) == list(mon_data.columns), \"컬럼이 올바르지 않습니다.\"\n",
    "assert result['Label'].min() == 0 and result['Label'].max() == 49, \"Label 범위가 올바르지 않습니다.\"\n",
    "\n",
    "print(\"테스트가 성공적으로 완료되었습니다.\")\n"
   ]
  },
  {
   "cell_type": "code",
   "execution_count": null,
   "metadata": {},
   "outputs": [],
   "source": []
  }
 ],
 "metadata": {
  "kernelspec": {
   "display_name": "naivis",
   "language": "python",
   "name": "python3"
  },
  "language_info": {
   "codemirror_mode": {
    "name": "ipython",
    "version": 3
   },
   "file_extension": ".py",
   "mimetype": "text/x-python",
   "name": "python",
   "nbconvert_exporter": "python",
   "pygments_lexer": "ipython3",
   "version": "3.11.8"
  }
 },
 "nbformat": 4,
 "nbformat_minor": 2
}
