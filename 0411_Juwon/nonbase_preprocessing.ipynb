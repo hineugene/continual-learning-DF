{
 "cells": [
  {
   "cell_type": "code",
   "execution_count": 1,
   "metadata": {},
   "outputs": [],
   "source": [
    "import pandas as pd"
   ]
  },
  {
   "cell_type": "code",
   "execution_count": 2,
   "metadata": {},
   "outputs": [],
   "source": [
    "# 원본 데이터 로드\n",
    "data = pd.read_pickle('mon_data.pkl')"
   ]
  },
  {
   "cell_type": "code",
   "execution_count": 5,
   "metadata": {},
   "outputs": [],
   "source": [
    "# 클래스 기준 필터링\n",
    "mask_A = (data['Label'] >= 0) & (data['Label'] <= 49)\n",
    "mask_B = (data['Label'] >= 50) & (data['Label'] <= 94)"
   ]
  },
  {
   "cell_type": "code",
   "execution_count": 6,
   "metadata": {},
   "outputs": [],
   "source": [
    "# 데이터 분할\n",
    "mon_data_A = data[mask_A].copy().reset_index(drop=True)\n",
    "mon_data_B = data[mask_B].copy().reset_index(drop=True)"
   ]
  },
  {
   "cell_type": "code",
   "execution_count": 7,
   "metadata": {},
   "outputs": [
    {
     "name": "stdout",
     "output_type": "stream",
     "text": [
      "Original shape: (19000, 2)\n",
      "Group A shape: (10000, 2) (0-49 classes)\n",
      "Group B shape: (9000, 2) (50-94 classes)\n"
     ]
    }
   ],
   "source": [
    "# 분할 결과 확인\n",
    "print(f\"Original shape: {data.shape}\")\n",
    "print(f\"Group A shape: {mon_data_A.shape} (0-49 classes)\")\n",
    "print(f\"Group B shape: {mon_data_B.shape} (50-94 classes)\")"
   ]
  },
  {
   "cell_type": "code",
   "execution_count": 8,
   "metadata": {},
   "outputs": [],
   "source": [
    "# 파일 저장\n",
    "mon_data_A.to_pickle('mon_data_A.pkl')\n",
    "mon_data_B.to_pickle('mon_data_B.pkl')"
   ]
  }
 ],
 "metadata": {
  "kernelspec": {
   "display_name": "Python 3",
   "language": "python",
   "name": "python3"
  },
  "language_info": {
   "codemirror_mode": {
    "name": "ipython",
    "version": 3
   },
   "file_extension": ".py",
   "mimetype": "text/x-python",
   "name": "python",
   "nbconvert_exporter": "python",
   "pygments_lexer": "ipython3",
   "version": "3.7.7"
  }
 },
 "nbformat": 4,
 "nbformat_minor": 2
}
