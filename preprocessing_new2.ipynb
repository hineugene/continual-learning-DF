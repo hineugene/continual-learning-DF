{
 "cells": [
  {
   "cell_type": "code",
   "execution_count": 1,
   "metadata": {},
   "outputs": [],
   "source": [
    "import pandas as pd\n",
    "import numpy as np\n",
    "import pickle\n",
    "import sklearn\n",
    "from sklearn.model_selection import train_test_split"
   ]
  },
  {
   "cell_type": "code",
   "execution_count": 2,
   "metadata": {},
   "outputs": [],
   "source": [
    "data = pd.read_csv(\"mon_standard_dataset.csv\")"
   ]
  },
  {
   "cell_type": "code",
   "execution_count": 3,
   "metadata": {},
   "outputs": [],
   "source": [
    "data = data[['Direction_Size_Sequence', 'Label']]"
   ]
  },
  {
   "cell_type": "code",
   "execution_count": 4,
   "metadata": {},
   "outputs": [],
   "source": [
    "data['Direction_Only_Sequence'] = data['Direction_Size_Sequence'].apply(lambda x: [1 if i > 0 else -1 for i in eval(x)])"
   ]
  },
  {
   "cell_type": "code",
   "execution_count": 5,
   "metadata": {},
   "outputs": [],
   "source": [
    "# 라벨이 0~94 사이인 데이터만 필터링\n",
    "data = data[data['Label'].between(0, 94)]"
   ]
  },
  {
   "cell_type": "code",
   "execution_count": 6,
   "metadata": {},
   "outputs": [
    {
     "name": "stdout",
     "output_type": "stream",
     "text": [
      "Shape of sequence_array: (19000, 10000, 1)\n"
     ]
    }
   ],
   "source": [
    "def adjust_sequence_length(sequence, target_length=10000, padding_value=-1):\n",
    "    if isinstance(sequence, (int, float, np.float32, np.float64)):\n",
    "        sequence = [sequence]\n",
    "    if len(sequence) < target_length:\n",
    "        sequence = sequence + [padding_value] * (target_length - len(sequence))\n",
    "    else:\n",
    "        sequence = sequence[:target_length]\n",
    "    return sequence\n",
    "\n",
    "\n",
    "# Convert DataFrame column to NumPy array\n",
    "sequence_array = data['Direction_Only_Sequence'].to_numpy()\n",
    "\n",
    "# Adjust sequence lengths\n",
    "sequence_array = np.array([adjust_sequence_length(seq) for seq in sequence_array])\n",
    "\n",
    "# Convert data to float32 type\n",
    "sequence_array = sequence_array.astype('float32')\n",
    "\n",
    "# Add an extra dimension to create [Length x 1] x n shape\n",
    "sequence_array = sequence_array[:, :, np.newaxis]\n",
    "\n",
    "# Now sequence_array is a 3D NumPy array\n",
    "# We don't need to put it back into the DataFrame\n",
    "\n",
    "# Verify the shape\n",
    "print(\"Shape of sequence_array:\", sequence_array.shape)\n",
    "\n",
    "# If you need to keep other columns from the original DataFrame, you can do:\n",
    "# other_columns = data.drop('Direction_Only_Sequence', axis=1)\n",
    "\n",
    "# And if you need to use the sequence_array later with other DataFrame operations:\n",
    "# data = pd.DataFrame({'Direction_Only_Sequence': list(sequence_array)})\n",
    "# data = pd.concat([data, other_columns], axis=1)\n"
   ]
  },
  {
   "cell_type": "code",
   "execution_count": 7,
   "metadata": {},
   "outputs": [],
   "source": [
    "mon_data = sequence_array"
   ]
  },
  {
   "cell_type": "code",
   "execution_count": 8,
   "metadata": {},
   "outputs": [
    {
     "name": "stdout",
     "output_type": "stream",
     "text": [
      "Data processed and saved successfully.\n"
     ]
    }
   ],
   "source": [
    "# Save the processed data\n",
    "with open(\"mon_data.pkl\", \"wb\") as f:\n",
    "    pickle.dump(mon_data, f)\n",
    "\n",
    "print(\"Data processed and saved successfully.\")"
   ]
  },
  {
   "cell_type": "code",
   "execution_count": 9,
   "metadata": {},
   "outputs": [
    {
     "name": "stdout",
     "output_type": "stream",
     "text": [
      "(19000, 10000, 1)\n"
     ]
    }
   ],
   "source": [
    "print(mon_data.shape)\n"
   ]
  }
 ],
 "metadata": {
  "kernelspec": {
   "display_name": "Python 3",
   "language": "python",
   "name": "python3"
  },
  "language_info": {
   "codemirror_mode": {
    "name": "ipython",
    "version": 3
   },
   "file_extension": ".py",
   "mimetype": "text/x-python",
   "name": "python",
   "nbconvert_exporter": "python",
   "pygments_lexer": "ipython3",
   "version": "3.11.8"
  }
 },
 "nbformat": 4,
 "nbformat_minor": 2
}
