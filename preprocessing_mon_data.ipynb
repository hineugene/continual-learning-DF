{
 "cells": [
  {
   "cell_type": "code",
   "execution_count": 1,
   "metadata": {},
   "outputs": [],
   "source": [
    "import pandas as pd\n",
    "import numpy as np\n",
    "import pickle\n",
    "import sklearn\n",
    "from sklearn.model_selection import train_test_split"
   ]
  },
  {
   "cell_type": "code",
   "execution_count": 2,
   "metadata": {},
   "outputs": [],
   "source": [
    "data = pd.read_csv(\"mon_standard_dataset.csv\")"
   ]
  },
  {
   "cell_type": "code",
   "execution_count": 3,
   "metadata": {},
   "outputs": [],
   "source": [
    "data = data[['Direction_Size_Sequence', 'Label']]"
   ]
  },
  {
   "cell_type": "code",
   "execution_count": 4,
   "metadata": {},
   "outputs": [],
   "source": [
    "data['Direction_Sequence'] = data['Direction_Size_Sequence'].apply(lambda x: [1 if i > 0 else -1 for i in eval(x)])"
   ]
  },
  {
   "cell_type": "code",
   "execution_count": 5,
   "metadata": {},
   "outputs": [],
   "source": [
    "# 라벨이 0~94 사이인 데이터만 필터링\n",
    "data = data[data['Label'].between(0, 94)]"
   ]
  },
  {
   "cell_type": "code",
   "execution_count": 6,
   "metadata": {},
   "outputs": [],
   "source": [
    "def adjust_sequence_length(sequence, target_length=10000, padding_value=-1):\n",
    "    if isinstance(sequence, (int, float, np.float32, np.float64)):\n",
    "        sequence = [sequence]\n",
    "    if len(sequence) < target_length:\n",
    "        sequence = sequence + [padding_value] * (target_length - len(sequence))\n",
    "    else:\n",
    "        sequence = sequence[:target_length]\n",
    "    return sequence\n"
   ]
  },
  {
   "cell_type": "code",
   "execution_count": 7,
   "metadata": {},
   "outputs": [
    {
     "data": {
      "text/plain": [
       "(19000, 10000)"
      ]
     },
     "execution_count": 7,
     "metadata": {},
     "output_type": "execute_result"
    }
   ],
   "source": [
    "# Convert DataFrame column to NumPy array\n",
    "sequence_array = data['Direction_Sequence'].to_numpy()\n",
    "\n",
    "# Adjust sequence lengths\n",
    "sequence_array = np.array([adjust_sequence_length(seq) for seq in sequence_array])\n",
    "\n",
    "sequence_array.shape"
   ]
  },
  {
   "cell_type": "code",
   "execution_count": 8,
   "metadata": {},
   "outputs": [
    {
     "data": {
      "text/plain": [
       "(19000,)"
      ]
     },
     "execution_count": 8,
     "metadata": {},
     "output_type": "execute_result"
    }
   ],
   "source": [
    "data['Label'].shape"
   ]
  },
  {
   "cell_type": "code",
   "execution_count": 9,
   "metadata": {},
   "outputs": [],
   "source": [
    "mon_data = pd.DataFrame({\n",
    "    'Direction_Sequence': list(sequence_array),\n",
    "    'Label': data['Label'].values \n",
    "})"
   ]
  },
  {
   "cell_type": "code",
   "execution_count": 10,
   "metadata": {},
   "outputs": [
    {
     "name": "stdout",
     "output_type": "stream",
     "text": [
      "Data processed and saved successfully.\n"
     ]
    }
   ],
   "source": [
    "# Save the processed data\n",
    "# pandas에서 .to_pickle()을 사용하여 DataFrame을 저장하고, pd.read_pickle()을 사용하여 불러오기\n",
    "mon_data.to_pickle(\"mon_data.pkl\")\n",
    "\n",
    "print(\"Data processed and saved successfully.\")"
   ]
  },
  {
   "cell_type": "markdown",
   "metadata": {},
   "source": [
    "### 데이터 처리 확인\n"
   ]
  },
  {
   "cell_type": "code",
   "execution_count": 11,
   "metadata": {},
   "outputs": [
    {
     "data": {
      "text/html": [
       "<div>\n",
       "<style scoped>\n",
       "    .dataframe tbody tr th:only-of-type {\n",
       "        vertical-align: middle;\n",
       "    }\n",
       "\n",
       "    .dataframe tbody tr th {\n",
       "        vertical-align: top;\n",
       "    }\n",
       "\n",
       "    .dataframe thead th {\n",
       "        text-align: right;\n",
       "    }\n",
       "</style>\n",
       "<table border=\"1\" class=\"dataframe\">\n",
       "  <thead>\n",
       "    <tr style=\"text-align: right;\">\n",
       "      <th></th>\n",
       "      <th>Direction_Sequence</th>\n",
       "      <th>Label</th>\n",
       "    </tr>\n",
       "  </thead>\n",
       "  <tbody>\n",
       "    <tr>\n",
       "      <th>18995</th>\n",
       "      <td>[-1, -1, 1, -1, 1, -1, 1, 1, -1, -1, -1, -1, -...</td>\n",
       "      <td>94</td>\n",
       "    </tr>\n",
       "    <tr>\n",
       "      <th>18996</th>\n",
       "      <td>[-1, -1, 1, -1, 1, -1, 1, 1, -1, -1, -1, -1, -...</td>\n",
       "      <td>94</td>\n",
       "    </tr>\n",
       "    <tr>\n",
       "      <th>18997</th>\n",
       "      <td>[-1, -1, 1, -1, 1, -1, 1, 1, -1, -1, -1, -1, -...</td>\n",
       "      <td>94</td>\n",
       "    </tr>\n",
       "    <tr>\n",
       "      <th>18998</th>\n",
       "      <td>[-1, -1, 1, -1, 1, -1, 1, 1, -1, -1, -1, -1, -...</td>\n",
       "      <td>94</td>\n",
       "    </tr>\n",
       "    <tr>\n",
       "      <th>18999</th>\n",
       "      <td>[-1, -1, 1, -1, 1, -1, 1, 1, -1, -1, -1, -1, -...</td>\n",
       "      <td>94</td>\n",
       "    </tr>\n",
       "  </tbody>\n",
       "</table>\n",
       "</div>"
      ],
      "text/plain": [
       "                                      Direction_Sequence  Label\n",
       "18995  [-1, -1, 1, -1, 1, -1, 1, 1, -1, -1, -1, -1, -...     94\n",
       "18996  [-1, -1, 1, -1, 1, -1, 1, 1, -1, -1, -1, -1, -...     94\n",
       "18997  [-1, -1, 1, -1, 1, -1, 1, 1, -1, -1, -1, -1, -...     94\n",
       "18998  [-1, -1, 1, -1, 1, -1, 1, 1, -1, -1, -1, -1, -...     94\n",
       "18999  [-1, -1, 1, -1, 1, -1, 1, 1, -1, -1, -1, -1, -...     94"
      ]
     },
     "execution_count": 11,
     "metadata": {},
     "output_type": "execute_result"
    }
   ],
   "source": [
    "mon_data.tail()"
   ]
  },
  {
   "cell_type": "code",
   "execution_count": 14,
   "metadata": {},
   "outputs": [
    {
     "data": {
      "text/plain": [
       "10000"
      ]
     },
     "execution_count": 14,
     "metadata": {},
     "output_type": "execute_result"
    }
   ],
   "source": [
    "# padding 확인, 2525 대신 다른 데이터 넣어보기\n",
    "len(mon_data.loc[2520, 'Direction_Sequence'])"
   ]
  },
  {
   "cell_type": "code",
   "execution_count": 13,
   "metadata": {},
   "outputs": [
    {
     "data": {
      "text/plain": [
       "(200, 2)"
      ]
     },
     "execution_count": 13,
     "metadata": {},
     "output_type": "execute_result"
    }
   ],
   "source": [
    "# 라벨별 데이터 모아보기\n",
    "# 95 * 200 = 19000 \n",
    "Label_10 = mon_data[mon_data['Label']==94]\n",
    "Label_10.shape"
   ]
  },
  {
   "cell_type": "code",
   "execution_count": 15,
   "metadata": {},
   "outputs": [],
   "source": [
    "def split_data(data, m, n):\n",
    "    \"\"\"\n",
    "    데이터프레임에서 클래스 라벨이 m부터 n까지인 데이터를 추출합니다.\n",
    "    \n",
    "    Parameters:\n",
    "    data (pd.DataFrame): 원본 데이터프레임\n",
    "    m (int): 시작 클래스 라벨\n",
    "    n (int): 끝 클래스 라벨\n",
    "    \n",
    "    Returns:\n",
    "    pd.DataFrame: 추출된 데이터\n",
    "    \"\"\"\n",
    "    return data[data['Label'].between(m, n)]"
   ]
  },
  {
   "cell_type": "code",
   "execution_count": 16,
   "metadata": {},
   "outputs": [
    {
     "name": "stdout",
     "output_type": "stream",
     "text": [
      "추출된 데이터 shape: (2200, 2)\n",
      "추출된 데이터의 라벨 분포:\n",
      "Label\n",
      "0     200\n",
      "1     200\n",
      "2     200\n",
      "3     200\n",
      "4     200\n",
      "5     200\n",
      "6     200\n",
      "7     200\n",
      "8     200\n",
      "9     200\n",
      "10    200\n",
      "Name: count, dtype: int64\n"
     ]
    }
   ],
   "source": [
    "# 사용 예시\n",
    "m, n = 0, 10  # 클래스 라벨 0부터 10까지 추출\n",
    "subset_data = split_data(mon_data, m, n)\n",
    "print(f\"추출된 데이터 shape: {subset_data.shape}\")\n",
    "print(f\"추출된 데이터의 라벨 분포:\\n{subset_data['Label'].value_counts().sort_index()}\")"
   ]
  },
  {
   "cell_type": "code",
   "execution_count": null,
   "metadata": {},
   "outputs": [],
   "source": []
  }
 ],
 "metadata": {
  "kernelspec": {
   "display_name": "naivis",
   "language": "python",
   "name": "python3"
  },
  "language_info": {
   "codemirror_mode": {
    "name": "ipython",
    "version": 3
   },
   "file_extension": ".py",
   "mimetype": "text/x-python",
   "name": "python",
   "nbconvert_exporter": "python",
   "pygments_lexer": "ipython3",
   "version": "3.11.8"
  }
 },
 "nbformat": 4,
 "nbformat_minor": 2
}
