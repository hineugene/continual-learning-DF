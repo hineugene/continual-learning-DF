{
 "cells": [
  {
   "cell_type": "code",
   "execution_count": 6,
   "metadata": {},
   "outputs": [],
   "source": [
    "import pandas as pd\n",
    "import numpy as np\n",
    "\n",
    "import tensorflow as tf\n",
    "from tensorflow.keras.optimizers.legacy import Adamax, Adam\n",
    "from tensorflow.keras.losses import CategoricalCrossentropy\n",
    "from tensorflow.keras.metrics import CategoricalAccuracy\n",
    "from tensorflow.keras.metrics import Mean\n",
    "from tensorflow.keras.utils import to_categorical\n",
    "from copy import deepcopy"
   ]
  },
  {
   "cell_type": "code",
   "execution_count": 7,
   "metadata": {},
   "outputs": [],
   "source": [
    "import import_ipynb\n",
    "\n",
    "import Model \n",
    "from Model import *\n",
    "\n",
    "import utils\n",
    "from utils import *"
   ]
  },
  {
   "cell_type": "code",
   "execution_count": 8,
   "metadata": {},
   "outputs": [],
   "source": [
    "data = pd.read_pickle('mon_data.pkl')"
   ]
  },
  {
   "cell_type": "code",
   "execution_count": 9,
   "metadata": {},
   "outputs": [],
   "source": [
    "from tensorflow.keras.models import load_model\n",
    "\n",
    "# 모델 로드\n",
    "model = load_model('nonbase_model.h5')"
   ]
  },
  {
   "cell_type": "code",
   "execution_count": null,
   "metadata": {},
   "outputs": [],
   "source": [
    "import tensorflow as tf\n",
    "tf.config.run_functions_eagerly(True)  # 즉시 실행 모드 강제\n",
    "\n",
    "# first part 불러오기\n",
    "first_part = split_by_label(data, 0, 49)\n",
    "train_f, test_f = split_train_test(first_part, test_size=0.2, random_state=11)\n",
    "\n",
    "# second part 불러오기\n",
    "second_part = split_by_label(data, 50, 94)\n",
    "train, test = split_train_test(second_part, test_size=0.2, random_state=11)\n",
    "\n",
    "# test 데이터셋 합치기\n",
    "X_test_combined = np.concatenate([\n",
    "    test_f['Direction_Sequence'].values,\n",
    "    test['Direction_Sequence'].values\n",
    "], axis=0)\n",
    "\n",
    "y_test_combined = np.concatenate([\n",
    "    test_f['Label'].values,\n",
    "    test['Label'].values\n",
    "], axis=0)\n",
    "\n",
    "combined_test = pd.concat([test_f, test], axis=0).reset_index(drop=True)\n",
    "\n",
    "# 3D ndarray 로 변환 \n",
    "train_seq, train_label = split_data_label(train)\n",
    "\n",
    "from sklearn.preprocessing import LabelEncoder\n",
    "\n",
    "# 레이블을 0~44 범위로 재인덱싱\n",
    "le = LabelEncoder()\n",
    "train_label = le.fit_transform(train_label)\n",
    "\n",
    "train_seq = np.stack(train_seq.values)\n",
    "train_seq = train_seq[..., np.newaxis]\n",
    "\n",
    "# train_label = train_label.values\n",
    "train_label = to_categorical(train_label, num_classes=95)"
   ]
  },
  {
   "cell_type": "code",
   "execution_count": 19,
   "metadata": {},
   "outputs": [
    {
     "name": "stdout",
     "output_type": "stream",
     "text": [
      "combined_test shape: (3800, 2)\n",
      "컬럼 목록: ['Direction_Sequence', 'Label']\n",
      "라벨 최소/최대: 0 94\n"
     ]
    }
   ],
   "source": [
    "# 1.1 데이터 형태 확인\n",
    "print(f\"combined_test shape: {combined_test.shape}\")  # (원본 test_f + test 행 개수, 2)여야 함\n",
    "print(f\"컬럼 목록: {combined_test.columns.tolist()}\")  # ['Direction_Sequence', 'Label'] 확인\n",
    "\n",
    "# 1.2 라벀 범위 검증\n",
    "print(\"라벨 최소/최대:\", combined_test['Label'].min(), combined_test['Label'].max())  \n",
    "# 0~94 범위여야 함 (데이터 분할 로직에 따라 0~49 + 50~94)"
   ]
  },
  {
   "cell_type": "code",
   "execution_count": 20,
   "metadata": {},
   "outputs": [
    {
     "name": "stdout",
     "output_type": "stream",
     "text": [
      "Epoch 1/30\n"
     ]
    },
    {
     "name": "stderr",
     "output_type": "stream",
     "text": [
      "c:\\Users\\swu\\AppData\\Local\\Programs\\Python\\Python37\\lib\\site-packages\\tensorflow\\python\\data\\ops\\structured_function.py:265: UserWarning: Even though the `tf.config.experimental_run_functions_eagerly` option is set, this option does not apply to tf.data functions. To force eager execution of tf.data functions, please use `tf.data.experimental.enable_debug_mode()`.\n",
      "  \"Even though the `tf.config.experimental_run_functions_eagerly` \"\n"
     ]
    },
    {
     "name": "stdout",
     "output_type": "stream",
     "text": [
      "225/225 [==============================] - 21s 92ms/step - loss: 0.0462 - accuracy: 0.9871\n",
      "Epoch 2/30\n",
      "225/225 [==============================] - 22s 97ms/step - loss: 0.0518 - accuracy: 0.9860\n",
      "Epoch 3/30\n",
      "225/225 [==============================] - 22s 98ms/step - loss: 0.0501 - accuracy: 0.9864\n",
      "Epoch 4/30\n",
      "225/225 [==============================] - 21s 92ms/step - loss: 0.0462 - accuracy: 0.9876\n",
      "Epoch 5/30\n",
      "225/225 [==============================] - 20s 89ms/step - loss: 0.0427 - accuracy: 0.9875\n",
      "Epoch 6/30\n",
      "225/225 [==============================] - 21s 94ms/step - loss: 0.0420 - accuracy: 0.9871\n",
      "Epoch 7/30\n",
      "225/225 [==============================] - 22s 100ms/step - loss: 0.0424 - accuracy: 0.9881\n",
      "Epoch 8/30\n",
      "225/225 [==============================] - 22s 96ms/step - loss: 0.0401 - accuracy: 0.9883\n",
      "Epoch 9/30\n",
      "225/225 [==============================] - 22s 98ms/step - loss: 0.0360 - accuracy: 0.9883\n",
      "Epoch 10/30\n",
      "225/225 [==============================] - 21s 92ms/step - loss: 0.0358 - accuracy: 0.9907\n",
      "Epoch 11/30\n",
      "225/225 [==============================] - 20s 88ms/step - loss: 0.0293 - accuracy: 0.9915\n",
      "Epoch 12/30\n",
      "225/225 [==============================] - 20s 90ms/step - loss: 0.0284 - accuracy: 0.9911\n",
      "Epoch 13/30\n",
      "225/225 [==============================] - 22s 98ms/step - loss: 0.0292 - accuracy: 0.9919\n",
      "Epoch 14/30\n",
      "225/225 [==============================] - 23s 104ms/step - loss: 0.0292 - accuracy: 0.9907\n",
      "Epoch 15/30\n",
      "225/225 [==============================] - 21s 93ms/step - loss: 0.0313 - accuracy: 0.9908\n",
      "Epoch 16/30\n",
      "225/225 [==============================] - 23s 102ms/step - loss: 0.0296 - accuracy: 0.9917\n",
      "Epoch 17/30\n",
      "225/225 [==============================] - 21s 92ms/step - loss: 0.0303 - accuracy: 0.9907\n",
      "Epoch 18/30\n",
      "225/225 [==============================] - 21s 95ms/step - loss: 0.0257 - accuracy: 0.9939\n",
      "Epoch 19/30\n",
      "225/225 [==============================] - 21s 93ms/step - loss: 0.0259 - accuracy: 0.9924\n",
      "Epoch 20/30\n",
      "225/225 [==============================] - 21s 93ms/step - loss: 0.0218 - accuracy: 0.9937\n",
      "Epoch 21/30\n",
      "225/225 [==============================] - 22s 98ms/step - loss: 0.0254 - accuracy: 0.9932\n",
      "Epoch 22/30\n",
      "225/225 [==============================] - 22s 96ms/step - loss: 0.0231 - accuracy: 0.9936\n",
      "Epoch 23/30\n",
      "225/225 [==============================] - 21s 96ms/step - loss: 0.0265 - accuracy: 0.9915\n",
      "Epoch 24/30\n",
      "225/225 [==============================] - 22s 97ms/step - loss: 0.0203 - accuracy: 0.9944\n",
      "Epoch 25/30\n",
      "225/225 [==============================] - 22s 97ms/step - loss: 0.0203 - accuracy: 0.9942\n",
      "Epoch 26/30\n",
      "225/225 [==============================] - 56s 249ms/step - loss: 0.0203 - accuracy: 0.9940\n",
      "Epoch 27/30\n",
      "225/225 [==============================] - 69s 308ms/step - loss: 0.0227 - accuracy: 0.9931\n",
      "Epoch 28/30\n",
      "225/225 [==============================] - 68s 303ms/step - loss: 0.0215 - accuracy: 0.9943\n",
      "Epoch 29/30\n",
      "225/225 [==============================] - 69s 304ms/step - loss: 0.0250 - accuracy: 0.9925\n",
      "Epoch 30/30\n",
      "225/225 [==============================] - 71s 316ms/step - loss: 0.0198 - accuracy: 0.9937\n",
      "Data_B training accuracy: 0.9937\n"
     ]
    }
   ],
   "source": [
    "# 모델 훈련\n",
    "history = model.fit(x=train_seq, y=train_label, epochs=30, verbose=1)\n",
    "print(f\"Data_B training accuracy: {history.history['accuracy'][-1]:.4f}\")"
   ]
  },
  {
   "cell_type": "markdown",
   "metadata": {},
   "source": [
    "### 95개의 클래스로 model test"
   ]
  },
  {
   "cell_type": "code",
   "execution_count": 21,
   "metadata": {},
   "outputs": [
    {
     "name": "stdout",
     "output_type": "stream",
     "text": [
      "119/119 [==============================] - 8s 68ms/step - loss: 24.4396 - accuracy: 0.0103\n",
      "[24.439640045166016, 0.01026315800845623]\n"
     ]
    }
   ],
   "source": [
    "test_seq, test_label = split_data_label(combined_test) # test + first part에서 불러온 데이터\n",
    "test_seq = np.stack(test_seq.values)\n",
    "test_seq = test_seq[..., np.newaxis]\n",
    "\n",
    "test_label = test_label.values\n",
    "test_label = to_categorical(test_label, num_classes=95)\n",
    "\n",
    "test = tf.data.Dataset.from_tensor_slices((test_seq, test_label))\n",
    "test = test.batch(32) \n",
    "\n",
    "final_accuracy = model.evaluate(test)\n",
    "print(final_accuracy)\n"
   ]
  }
 ],
 "metadata": {
  "kernelspec": {
   "display_name": "Python 3",
   "language": "python",
   "name": "python3"
  },
  "language_info": {
   "codemirror_mode": {
    "name": "ipython",
    "version": 3
   },
   "file_extension": ".py",
   "mimetype": "text/x-python",
   "name": "python",
   "nbconvert_exporter": "python",
   "pygments_lexer": "ipython3",
   "version": "3.7.7"
  }
 },
 "nbformat": 4,
 "nbformat_minor": 2
}
